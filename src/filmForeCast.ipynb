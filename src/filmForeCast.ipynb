{
 "cells": [
  {
   "cell_type": "code",
   "id": "addadea1-cb3c-4a76-b5bb-12eb1950fe4c",
   "metadata": {
    "ExecuteTime": {
     "end_time": "2025-08-05T14:04:03.096921Z",
     "start_time": "2025-08-05T14:03:56.414746Z"
    }
   },
   "source": [
    "import pandas as pd\n",
    "import ast\n",
    "import numpy as np\n",
    "from sklearn.preprocessing import MinMaxScaler\n",
    "\n",
    "from sklearn.preprocessing import MultiLabelBinarizer, PolynomialFeatures\n",
    "\n",
    "from sklearn.model_selection import train_test_split\n",
    "\n",
    "from sklearn.linear_model import LinearRegression, Ridge\n",
    "from sklearn.metrics import mean_squared_error, r2_score\n",
    "\n",
    "df = pd.read_csv(\"../Database/Dataset.csv\")\n",
    "df_raw = df.copy()  # Keep a backup of the original dataset"
   ],
   "outputs": [],
   "execution_count": 282
  },
  {
   "metadata": {
    "ExecuteTime": {
     "end_time": "2025-08-05T14:04:03.114614Z",
     "start_time": "2025-08-05T14:04:03.111473Z"
    }
   },
   "cell_type": "code",
   "source": "df.shape",
   "id": "6b15adb25f1b509d",
   "outputs": [
    {
     "data": {
      "text/plain": [
       "(1266348, 24)"
      ]
     },
     "execution_count": 283,
     "metadata": {},
     "output_type": "execute_result"
    }
   ],
   "execution_count": 283
  },
  {
   "metadata": {
    "ExecuteTime": {
     "end_time": "2025-08-05T14:04:03.148702Z",
     "start_time": "2025-08-05T14:04:03.143667Z"
    }
   },
   "cell_type": "code",
   "source": "print(df.columns.tolist())",
   "id": "de8a9825dc2fba0a",
   "outputs": [
    {
     "name": "stdout",
     "output_type": "stream",
     "text": [
      "['id', 'title', 'vote_average', 'vote_count', 'status', 'release_date', 'revenue', 'runtime', 'adult', 'backdrop_path', 'budget', 'homepage', 'imdb_id', 'original_language', 'original_title', 'overview', 'popularity', 'poster_path', 'tagline', 'genres', 'production_companies', 'production_countries', 'spoken_languages', 'keywords']\n"
     ]
    }
   ],
   "execution_count": 284
  },
  {
   "metadata": {
    "ExecuteTime": {
     "end_time": "2025-08-05T14:04:03.745422Z",
     "start_time": "2025-08-05T14:04:03.174914Z"
    }
   },
   "cell_type": "code",
   "source": [
    "# Initial Data Cleaning - Remove Columns with Too Many Null Values\n",
    "\n",
    "# 1. Threshold setzen ( hier 50 % )\n",
    "# Falls eine Spalte mehr als 50 % Null Values hat, wird sie deleted.\n",
    "# Es bleiben nur Cols, die weniger als 50 % Null Values haben.\n",
    "threshold = len(df) * 0.5\n",
    "\n",
    "# Zähle die Null values pro Spalte\n",
    "null_counts = df.isnull().sum()\n",
    "\n",
    "\n",
    "# 2. Spalten ermitteln, bei denen null_counts > threshold\n",
    "cols_to_drop = null_counts[null_counts > threshold].index.tolist()\n",
    "\n",
    "# 3. Spalten löschen\n",
    "df = df.drop(columns=cols_to_drop)\n",
    "\n",
    "print(\"Original shape:\", df_raw.shape)\n",
    "print(\"Cleaned shape:\", df.shape)\n",
    "print(\"----------------------------------------\\n\")\n",
    "\n",
    "# To Checken was gedropped wurde:\n",
    "# dropped_cols als Set Difference\n",
    "dropped_cols = set(df_raw.columns) - set(df.columns)\n",
    "print(\"Dropped columns:\", dropped_cols)\n",
    "print(\"----------------------------------------\")\n",
    "print(\"----------------------------------------\")\n",
    "print(\"----------------------------------------\")\n",
    "print(\"Remaining columns:\", df.columns.tolist())"
   ],
   "id": "291ee682c778f75b",
   "outputs": [
    {
     "name": "stdout",
     "output_type": "stream",
     "text": [
      "Original shape: (1266348, 24)\n",
      "Cleaned shape: (1266348, 19)\n",
      "----------------------------------------\n",
      "\n",
      "Dropped columns: {'production_companies', 'backdrop_path', 'keywords', 'homepage', 'tagline'}\n",
      "----------------------------------------\n",
      "----------------------------------------\n",
      "----------------------------------------\n",
      "Remaining columns: ['id', 'title', 'vote_average', 'vote_count', 'status', 'release_date', 'revenue', 'runtime', 'adult', 'budget', 'imdb_id', 'original_language', 'original_title', 'overview', 'popularity', 'poster_path', 'genres', 'production_countries', 'spoken_languages']\n"
     ]
    }
   ],
   "execution_count": 285
  },
  {
   "metadata": {
    "ExecuteTime": {
     "end_time": "2025-08-05T14:04:03.831214Z",
     "start_time": "2025-08-05T14:04:03.791303Z"
    }
   },
   "cell_type": "code",
   "source": [
    "# Second Data Cleaning\n",
    "# Wir Droppen die Spalten, die wir nicht brauchen\n",
    "\n",
    "cols_to_drop_for_model = [\n",
    "    'id',\n",
    "    'title',\n",
    "    'original_title',\n",
    "    'imdb_id',\n",
    "    'poster_path',\n",
    "    'overview',\n",
    "    'vote_average',\n",
    "    'production_countries', # already using original language and genres\n",
    "    'spoken_languages' # already using original language\n",
    "]\n",
    "\n",
    "features = df.drop(columns=cols_to_drop_for_model)\n",
    "target = df['vote_average']\n",
    "\n",
    "\n",
    "\n",
    "print(\"Original DataFrame:\", df.shape)\n",
    "print(\"Features DataFrame:\", features.shape)\n",
    "print(\"-------------------------------------------\")\n",
    "print(\"The Features we are going to be using:\", features.columns.tolist())\n",
    "\n"
   ],
   "id": "1c28be1c47ae3acd",
   "outputs": [
    {
     "name": "stdout",
     "output_type": "stream",
     "text": [
      "Original DataFrame: (1266348, 19)\n",
      "Features DataFrame: (1266348, 10)\n",
      "-------------------------------------------\n",
      "The Features we are going to be using: ['vote_count', 'status', 'release_date', 'revenue', 'runtime', 'adult', 'budget', 'original_language', 'popularity', 'genres']\n"
     ]
    }
   ],
   "execution_count": 286
  },
  {
   "metadata": {
    "ExecuteTime": {
     "end_time": "2025-08-05T14:04:03.910190Z",
     "start_time": "2025-08-05T14:04:03.837625Z"
    }
   },
   "cell_type": "code",
   "source": [
    "# check values in different columns\n",
    "\n",
    "#print(df['status'].value_counts(dropna=False))\n",
    "#print(df['adult'].value_counts(dropna=False))\n",
    "#print(df['original_language'].value_counts())\n",
    "df['genres'].describe()"
   ],
   "id": "b22225652f343eab",
   "outputs": [
    {
     "data": {
      "text/plain": [
       "count          733267\n",
       "unique          14126\n",
       "top       Documentary\n",
       "freq           147108\n",
       "Name: genres, dtype: object"
      ]
     },
     "execution_count": 287,
     "metadata": {},
     "output_type": "execute_result"
    }
   ],
   "execution_count": 287
  },
  {
   "metadata": {
    "ExecuteTime": {
     "end_time": "2025-08-05T14:04:09.941115Z",
     "start_time": "2025-08-05T14:04:03.951274Z"
    }
   },
   "cell_type": "code",
   "source": [
    "# https://stackoverflow.com/questions/58033652/separating-categories-within-one-column-in-my-dataframe?utm_source=chatgpt.com\n",
    "\n",
    "def extract_genres(genre_str):\n",
    "    try:\n",
    "        genres = ast.literal_eval(genre_str)\n",
    "        return [g['name'] for g in genres]\n",
    "    except:\n",
    "        return []\n",
    "\n",
    "df['genre_list'] = df['genres'].apply(extract_genres)\n",
    "\n",
    "\n",
    "\n",
    "mlb = MultiLabelBinarizer()\n",
    "df_genres = pd.DataFrame(\n",
    "    mlb.fit_transform(df['genre_list']),\n",
    "    columns=[f\"has_{g}\" for g in mlb.classes_],\n",
    "    index=df.index\n",
    ")\n",
    "df = pd.concat([df, df_genres], axis=1)"
   ],
   "id": "5c014393960d5114",
   "outputs": [],
   "execution_count": 288
  },
  {
   "metadata": {
    "ExecuteTime": {
     "end_time": "2025-08-05T14:04:10.905118Z",
     "start_time": "2025-08-05T14:04:09.958700Z"
    }
   },
   "cell_type": "code",
   "source": [
    "# Feature Engineering\n",
    "scaler = MinMaxScaler()\n",
    "\n",
    "# Convert vote_count using logarithmic scaling\n",
    "# prevents extreme large values\n",
    "df['vote_count_log'] = np.log1p(df['vote_count'])\n",
    "\n",
    "# Use One Hot Encoding for the STATUS\n",
    "df['status_released'] = (df['status'] == 'Released').astype(int)\n",
    "# By Far the majority of movies are Released -> Binary Choice\n",
    "# 1 : Released, 0 : Not Released\n",
    "\n",
    "\n",
    "# Convert 'release_date' to datetime and extract the YEAR\n",
    "df['release_date'] = pd.to_datetime(df['release_date'], errors='coerce')\n",
    "# coerce -> If parsing fails, set the value to NaT (Not a Time)\n",
    "df['release_year'] = df['release_date'].dt.year\n",
    "df['release_year'] = df['release_year'].clip(upper=2025).clip(lower=1900)\n",
    "\n",
    "# Normalize BUDGET and REVENUE\n",
    "# Fill NaN values with 0 for budget and revenue\n",
    "df['budget'] = df['budget'].fillna(0)\n",
    "df['revenue'] = df['revenue'].fillna(0)\n",
    "\n",
    "# Scale budget and revenue between 0 and 1\n",
    "df[['budget_scaled', 'revenue_scaled']] = scaler.fit_transform(df[['budget', 'revenue']])\n",
    "\n",
    "\n",
    "# Convert RUNTIME to numeric, fill NaN with median\n",
    "df['runtime'] = df['runtime'].fillna(df['runtime'].median())\n",
    "df[['runtime_scaled']] = scaler.fit_transform(df[['runtime']])\n",
    "\n",
    "\n",
    "# Convert ADULT to binary (1 for True, 0 for False)\n",
    "# actually is statistically releveant, as almost 10 % are adult movies\n",
    "df['adult'] = df['adult'].astype(bool).astype(int)\n",
    "\n",
    "\n",
    "# One Hot Encoding for ORIGINAL_LANGUAGE\n",
    "df = pd.get_dummies(df, columns=['original_language'], prefix='lang', drop_first=True)\n",
    "\n",
    "\n",
    "# Min Max Scaling for POPULARITY\n",
    "df[['popularity_scaled']] = scaler.fit_transform(df[['popularity']])\n",
    "\n",
    "\n",
    "# Extracting features for genres with MultiLabelBinarizer in function above\n",
    "genre_features = [col for col in df.columns if col.startswith('has_')]\n",
    "\n",
    "# Final list of features\n",
    "feature_cols = [\n",
    "    'vote_count_log',\n",
    "    'status_released',\n",
    "    'release_year',\n",
    "    'budget_scaled',\n",
    "    'revenue_scaled',\n",
    "    'runtime_scaled',\n",
    "    'adult',\n",
    "    'popularity_scaled',\n",
    "    #'spoken_languages' — handled separately\n",
    "] + genre_features + [col for col in df.columns if col.startswith('lang_')]\n",
    "\n",
    "\n",
    "features = df[feature_cols]\n",
    "#target = df['vote_average']\n",
    "\n",
    "\n",
    "\n",
    "# fill the Not a Number values with 0\n",
    "features = features.fillna(0)"
   ],
   "id": "b1d8e065-73e0-4d1f-8e13-30f522858357",
   "outputs": [],
   "execution_count": 289
  },
  {
   "metadata": {
    "ExecuteTime": {
     "end_time": "2025-08-05T14:04:11.323448Z",
     "start_time": "2025-08-05T14:04:10.916836Z"
    }
   },
   "cell_type": "code",
   "source": [
    "# Split Data into Training, Validation, and Test Sets\n",
    "# We will use 70% for training, 20% for validation, 10% for tests\n",
    "\n",
    "#https://scikit-learn.org/stable/modules/generated/sklearn.model_selection.train_test_split.html\n",
    "\n",
    "\n",
    "# Splitting the Data into train and temporary sets (70% train, 30% temp)\n",
    "X_train, X_temp, y_train, y_temp = train_test_split(\n",
    "    # X_train : features\n",
    "    # X_temp : also features, 30 percent of the data\n",
    "    # y_train : target\n",
    "    # y_temp : still 30 percent of the data, but not features -> target values\n",
    "    features, target,\n",
    "    test_size=0.30,\n",
    "    )\n",
    "\n",
    "# Splitting the Temp set into validation and test sets (50% of temp each)\n",
    "X_val, X_test, y_val, y_test = train_test_split(\n",
    "    X_temp, y_temp,\n",
    "    test_size=1/3,\n",
    ")\n",
    "\n",
    "\n"
   ],
   "id": "73e95fd983f614e1",
   "outputs": [],
   "execution_count": 290
  },
  {
   "metadata": {
    "ExecuteTime": {
     "end_time": "2025-08-05T14:04:11.336683Z",
     "start_time": "2025-08-05T14:04:11.333974Z"
    }
   },
   "cell_type": "code",
   "source": [
    "print(\"Training set shape:\", X_train.shape)\n",
    "print(\"Validation set shape:\", X_val.shape)\n",
    "print(\"Test set shape:\", X_test.shape)\n",
    "print(\"Training target shape:\", y_train.shape)\n",
    "print(\"Validation target shape:\", y_val.shape)\n",
    "print(\"Test target shape:\", y_test.shape)\n"
   ],
   "id": "676b4bd04a02f89f",
   "outputs": [
    {
     "name": "stdout",
     "output_type": "stream",
     "text": [
      "Training set shape: (886443, 183)\n",
      "Validation set shape: (253270, 183)\n",
      "Test set shape: (126635, 183)\n",
      "Training target shape: (886443,)\n",
      "Validation target shape: (253270,)\n",
      "Test target shape: (126635,)\n"
     ]
    }
   ],
   "execution_count": 291
  },
  {
   "metadata": {
    "ExecuteTime": {
     "end_time": "2025-08-05T14:04:11.432960Z",
     "start_time": "2025-08-05T14:04:11.347143Z"
    }
   },
   "cell_type": "code",
   "source": [
    "# Check for object (non-numeric) dtypes\n",
    "print(features.dtypes[features.dtypes == 'object'])\n",
    "\n",
    "# Check for missing values\n",
    "print(\"NaNs in features:\", features.isna().sum().sum())\n",
    "print(\"NaNs in target:\", target.isna().sum())"
   ],
   "id": "9e5ae133caafb087",
   "outputs": [
    {
     "name": "stdout",
     "output_type": "stream",
     "text": [
      "Series([], dtype: object)\n",
      "NaNs in features: 0\n",
      "NaNs in target: 0\n"
     ]
    }
   ],
   "execution_count": 292
  },
  {
   "metadata": {
    "ExecuteTime": {
     "end_time": "2025-08-05T14:04:24.083313Z",
     "start_time": "2025-08-05T14:04:11.439538Z"
    }
   },
   "cell_type": "code",
   "source": [
    "\n",
    "\n",
    "\n",
    "#https://scikit-learn.org/stable/modules/generated/sklearn.linear_model.LinearRegression.html\n",
    "\n",
    "\n",
    "# Create Polynomial Features of degree 2\n",
    "\n",
    "\n",
    "\n",
    "\n",
    "numeric_features = ['vote_count_log', 'budget_scaled', 'revenue_scaled', 'runtime_scaled', 'popularity_scaled']\n",
    "X_train_num = X_train[numeric_features]\n",
    "X_val_num = X_val[numeric_features]\n",
    "X_test_num = X_test[numeric_features]\n",
    "\n",
    "poly = PolynomialFeatures(degree=2,include_bias=False)\n",
    "\n",
    "X_train_poly = poly.fit_transform(X_train_num)\n",
    "X_val_poly = poly.transform(X_val_num)\n",
    "X_test_poly = poly.transform(X_test_num)\n",
    "\n",
    "# NOW : Train the Rest features that are not numeric\n",
    "\n",
    "X_train_other = X_train.drop(columns=numeric_features)\n",
    "X_val_other = X_val.drop(columns=numeric_features)\n",
    "X_test_other = X_test.drop(columns=numeric_features)\n",
    "\n",
    "\n",
    "## hstack (horizontal stack) expects Numpy Arrays\n",
    "## poly.fit_transform already returns a Numpy Array\n",
    "X_train_final = np.hstack([X_train_poly, X_train_other.to_numpy()])\n",
    "X_val_final = np.hstack([X_val_poly, X_val_other.to_numpy()])\n",
    "X_test_final = np.hstack([X_test_poly, X_test_other.to_numpy()])\n",
    "\n",
    "\n",
    "\n",
    "# import model to be used\n",
    "model = LinearRegression()\n",
    "\n",
    "# by fit -> TRAIN model on data set\n",
    "model.fit(X_train_final, y_train)\n",
    "\n",
    "# produce a PREDICTION on validation and test sets\n",
    "y_val_pred = model.predict(X_val_final)\n",
    "y_test_pred = model.predict(X_test_final)\n",
    "\n",
    "# Look at the performance\n",
    "\n",
    "# R² score\n",
    "r2_val = r2_score(y_val, y_val_pred)\n",
    "r2_test = r2_score(y_test, y_test_pred)\n",
    "\n",
    "# Mean Squared Error\n",
    "mse_val = mean_squared_error(y_val, y_val_pred)\n",
    "mse_test = mean_squared_error(y_test, y_test_pred)\n",
    "\n",
    "print(\"📊 Validation R2:\", r2_val)\n",
    "print(\"----------------------\")\n",
    "print(\"📊 Test R2:\", r2_test)\n",
    "print(\"----------------------\")\n",
    "print(\"📉 Validation MSE:\", mse_val)\n",
    "print(\"----------------------\")\n",
    "print(\"📉 Test MSE:\", mse_test)\n",
    "print(\"----------------------\")"
   ],
   "id": "4dd36c906333cb5a",
   "outputs": [
    {
     "name": "stdout",
     "output_type": "stream",
     "text": [
      "📊 Validation R2: 0.6728142016204635\n",
      "----------------------\n",
      "📊 Test R2: 0.6846726597733162\n",
      "----------------------\n",
      "📉 Validation MSE: 2.8382313309477674\n",
      "----------------------\n",
      "📉 Test MSE: 2.7204187524826895\n",
      "----------------------\n"
     ]
    }
   ],
   "execution_count": 293
  },
  {
   "metadata": {
    "ExecuteTime": {
     "end_time": "2025-08-05T14:04:24.129841Z",
     "start_time": "2025-08-05T14:04:24.104204Z"
    }
   },
   "cell_type": "code",
   "source": [
    "\n",
    "\n",
    "# Create a DataFrame with predictions, actuals, and titles\n",
    "results = pd.DataFrame({\n",
    "\n",
    "    # take the correct movie title\n",
    "    'title': df.loc[X_test.index, 'title'],\n",
    "\n",
    "    'predicted_rating': y_test_pred,\n",
    "\n",
    "    'actual_rating': y_test\n",
    "})\n",
    "\n",
    "# Round values for easier reading\n",
    "results['predicted_rating'] = results['predicted_rating'].round(2)\n",
    "results['actual_rating'] = results['actual_rating'].round(2)\n",
    "\n",
    "res_non_zero = results[results['actual_rating'] > 0]\n",
    "\n",
    "# Show a random sample of 15 movies\n",
    "sample_results = res_non_zero.sample(20, random_state=42)\n",
    "\n",
    "display(sample_results)"
   ],
   "id": "12975a797b3afdff",
   "outputs": [
    {
     "data": {
      "text/plain": [
       "                                                   title  predicted_rating  \\\n",
       "172715                             O Princípio do Prazer              5.62   \n",
       "310358                                          Magnolia              3.29   \n",
       "224777                 Kidneythieves - Trickstereprocess              3.36   \n",
       "39029                                          TFW No GF              8.36   \n",
       "63506                                   Love Battlefield              7.68   \n",
       "145456                   Pixinguinha: Um Homem Carinhoso              6.15   \n",
       "18391                     Frankenstein Must Be Destroyed              7.58   \n",
       "317418                      You Know What? It's a Secret              3.21   \n",
       "257541                    Less Than Jake - Hellfest 2023              3.50   \n",
       "173853                                             Woods              5.65   \n",
       "326070                                 Soul of a Banquet              3.25   \n",
       "136806                                          Hameshaa              6.28   \n",
       "53940                                    We Are Monsters              8.22   \n",
       "85051                                     Aida's Secrets              7.21   \n",
       "208959                 The French, They Are a Funny Race              4.71   \n",
       "281091                                              Fala              3.07   \n",
       "199840  Wildes Brasilien - Geheimnisvolles Naturparadies              4.83   \n",
       "269537            Eric Prydz - Tomorrowland 2020 [CELL.]              3.28   \n",
       "134512                           The Executioner Part II              6.02   \n",
       "87211                                What's the Matador?              7.60   \n",
       "\n",
       "        actual_rating  \n",
       "172715           4.80  \n",
       "310358           8.00  \n",
       "224777           9.00  \n",
       "39029            6.00  \n",
       "63506            5.80  \n",
       "145456           9.80  \n",
       "18391            6.62  \n",
       "317418           5.00  \n",
       "257541           9.00  \n",
       "173853           6.50  \n",
       "326070           3.00  \n",
       "136806           7.00  \n",
       "53940            3.40  \n",
       "85051            7.81  \n",
       "208959           5.00  \n",
       "281091           8.00  \n",
       "199840           7.50  \n",
       "269537          10.00  \n",
       "134512           4.20  \n",
       "87211            5.90  "
      ],
      "text/html": [
       "<div>\n",
       "<style scoped>\n",
       "    .dataframe tbody tr th:only-of-type {\n",
       "        vertical-align: middle;\n",
       "    }\n",
       "\n",
       "    .dataframe tbody tr th {\n",
       "        vertical-align: top;\n",
       "    }\n",
       "\n",
       "    .dataframe thead th {\n",
       "        text-align: right;\n",
       "    }\n",
       "</style>\n",
       "<table border=\"1\" class=\"dataframe\">\n",
       "  <thead>\n",
       "    <tr style=\"text-align: right;\">\n",
       "      <th></th>\n",
       "      <th>title</th>\n",
       "      <th>predicted_rating</th>\n",
       "      <th>actual_rating</th>\n",
       "    </tr>\n",
       "  </thead>\n",
       "  <tbody>\n",
       "    <tr>\n",
       "      <th>172715</th>\n",
       "      <td>O Princípio do Prazer</td>\n",
       "      <td>5.62</td>\n",
       "      <td>4.80</td>\n",
       "    </tr>\n",
       "    <tr>\n",
       "      <th>310358</th>\n",
       "      <td>Magnolia</td>\n",
       "      <td>3.29</td>\n",
       "      <td>8.00</td>\n",
       "    </tr>\n",
       "    <tr>\n",
       "      <th>224777</th>\n",
       "      <td>Kidneythieves - Trickstereprocess</td>\n",
       "      <td>3.36</td>\n",
       "      <td>9.00</td>\n",
       "    </tr>\n",
       "    <tr>\n",
       "      <th>39029</th>\n",
       "      <td>TFW No GF</td>\n",
       "      <td>8.36</td>\n",
       "      <td>6.00</td>\n",
       "    </tr>\n",
       "    <tr>\n",
       "      <th>63506</th>\n",
       "      <td>Love Battlefield</td>\n",
       "      <td>7.68</td>\n",
       "      <td>5.80</td>\n",
       "    </tr>\n",
       "    <tr>\n",
       "      <th>145456</th>\n",
       "      <td>Pixinguinha: Um Homem Carinhoso</td>\n",
       "      <td>6.15</td>\n",
       "      <td>9.80</td>\n",
       "    </tr>\n",
       "    <tr>\n",
       "      <th>18391</th>\n",
       "      <td>Frankenstein Must Be Destroyed</td>\n",
       "      <td>7.58</td>\n",
       "      <td>6.62</td>\n",
       "    </tr>\n",
       "    <tr>\n",
       "      <th>317418</th>\n",
       "      <td>You Know What? It's a Secret</td>\n",
       "      <td>3.21</td>\n",
       "      <td>5.00</td>\n",
       "    </tr>\n",
       "    <tr>\n",
       "      <th>257541</th>\n",
       "      <td>Less Than Jake - Hellfest 2023</td>\n",
       "      <td>3.50</td>\n",
       "      <td>9.00</td>\n",
       "    </tr>\n",
       "    <tr>\n",
       "      <th>173853</th>\n",
       "      <td>Woods</td>\n",
       "      <td>5.65</td>\n",
       "      <td>6.50</td>\n",
       "    </tr>\n",
       "    <tr>\n",
       "      <th>326070</th>\n",
       "      <td>Soul of a Banquet</td>\n",
       "      <td>3.25</td>\n",
       "      <td>3.00</td>\n",
       "    </tr>\n",
       "    <tr>\n",
       "      <th>136806</th>\n",
       "      <td>Hameshaa</td>\n",
       "      <td>6.28</td>\n",
       "      <td>7.00</td>\n",
       "    </tr>\n",
       "    <tr>\n",
       "      <th>53940</th>\n",
       "      <td>We Are Monsters</td>\n",
       "      <td>8.22</td>\n",
       "      <td>3.40</td>\n",
       "    </tr>\n",
       "    <tr>\n",
       "      <th>85051</th>\n",
       "      <td>Aida's Secrets</td>\n",
       "      <td>7.21</td>\n",
       "      <td>7.81</td>\n",
       "    </tr>\n",
       "    <tr>\n",
       "      <th>208959</th>\n",
       "      <td>The French, They Are a Funny Race</td>\n",
       "      <td>4.71</td>\n",
       "      <td>5.00</td>\n",
       "    </tr>\n",
       "    <tr>\n",
       "      <th>281091</th>\n",
       "      <td>Fala</td>\n",
       "      <td>3.07</td>\n",
       "      <td>8.00</td>\n",
       "    </tr>\n",
       "    <tr>\n",
       "      <th>199840</th>\n",
       "      <td>Wildes Brasilien - Geheimnisvolles Naturparadies</td>\n",
       "      <td>4.83</td>\n",
       "      <td>7.50</td>\n",
       "    </tr>\n",
       "    <tr>\n",
       "      <th>269537</th>\n",
       "      <td>Eric Prydz - Tomorrowland 2020 [CELL.]</td>\n",
       "      <td>3.28</td>\n",
       "      <td>10.00</td>\n",
       "    </tr>\n",
       "    <tr>\n",
       "      <th>134512</th>\n",
       "      <td>The Executioner Part II</td>\n",
       "      <td>6.02</td>\n",
       "      <td>4.20</td>\n",
       "    </tr>\n",
       "    <tr>\n",
       "      <th>87211</th>\n",
       "      <td>What's the Matador?</td>\n",
       "      <td>7.60</td>\n",
       "      <td>5.90</td>\n",
       "    </tr>\n",
       "  </tbody>\n",
       "</table>\n",
       "</div>"
      ]
     },
     "metadata": {},
     "output_type": "display_data"
    }
   ],
   "execution_count": 294
  },
  {
   "metadata": {
    "ExecuteTime": {
     "end_time": "2025-08-05T14:08:33.369075Z",
     "start_time": "2025-08-05T14:08:33.241833Z"
    }
   },
   "cell_type": "code",
   "source": [
    "import matplotlib.pyplot as plt\n",
    "\n",
    "plt.figure(figsize=(8, 6))\n",
    "plt.scatter(y_test, y_test_pred, alpha=0.3)\n",
    "plt.xlabel(\"Actual Ratings\")\n",
    "plt.ylabel(\"Predicted Ratings\")\n",
    "plt.title(\"Predicted vs Actual Ratings\")\n",
    "plt.plot([0, 10], [0, 10], 'r-', lw=3)  # perfect prediction line\n",
    "plt.show()"
   ],
   "id": "10ccbd77a563a377",
   "outputs": [
    {
     "data": {
      "text/plain": [
       "<Figure size 800x600 with 1 Axes>"
      ],
      "image/png": "[encoded data removed]"
     },
     "metadata": {},
     "output_type": "display_data"
    }
   ],
   "execution_count": 297
  },
  {
   "metadata": {
    "ExecuteTime": {
     "end_time": "2025-08-05T14:04:24.159998Z",
     "start_time": "2025-08-05T14:04:24.158126Z"
    }
   },
   "cell_type": "code",
   "source": "",
   "id": "abfc1b68eed7096e",
   "outputs": [],
   "execution_count": null
  }
 ],
 "metadata": {
  "kernelspec": {
   "display_name": "Python 3 (ipykernel)",
   "language": "python",
   "name": "python3"
  },
  "language_info": {
   "codemirror_mode": {
    "name": "ipython",
    "version": 3
   },
   "file_extension": ".py",
   "mimetype": "text/x-python",
   "name": "python",
   "nbconvert_exporter": "python",
   "pygments_lexer": "ipython3",
   "version": "3.13.3"
  }
 },
 "nbformat": 4,
 "nbformat_minor": 5
}
