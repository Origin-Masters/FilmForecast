{
 "cells": [
  {
   "cell_type": "code",
   "id": "addadea1-cb3c-4a76-b5bb-12eb1950fe4c",
   "metadata": {
    "ExecuteTime": {
     "end_time": "2025-08-05T15:39:41.546926Z",
     "start_time": "2025-08-05T15:39:35.303991Z"
    }
   },
   "source": [
    "import pandas as pd\n",
    "import ast\n",
    "import numpy as np\n",
    "from sklearn.preprocessing import MinMaxScaler\n",
    "\n",
    "from sklearn.preprocessing import MultiLabelBinarizer, PolynomialFeatures\n",
    "\n",
    "from sklearn.model_selection import train_test_split\n",
    "\n",
    "from sklearn.linear_model import LinearRegression, Ridge\n",
    "from sklearn.metrics import mean_squared_error, r2_score\n",
    "\n",
    "df = pd.read_csv(\"../Database/Dataset.csv\")\n",
    "df_raw = df.copy()  # Keep a backup of the original dataset"
   ],
   "outputs": [],
   "execution_count": 47
  },
  {
   "metadata": {
    "ExecuteTime": {
     "end_time": "2025-08-05T15:39:41.553810Z",
     "start_time": "2025-08-05T15:39:41.551564Z"
    }
   },
   "cell_type": "code",
   "source": "df.shape",
   "id": "6b15adb25f1b509d",
   "outputs": [
    {
     "data": {
      "text/plain": [
       "(1266348, 24)"
      ]
     },
     "execution_count": 48,
     "metadata": {},
     "output_type": "execute_result"
    }
   ],
   "execution_count": 48
  },
  {
   "metadata": {
    "ExecuteTime": {
     "end_time": "2025-08-05T15:39:41.581012Z",
     "start_time": "2025-08-05T15:39:41.578719Z"
    }
   },
   "cell_type": "code",
   "source": "print(df.columns.tolist())",
   "id": "de8a9825dc2fba0a",
   "outputs": [
    {
     "name": "stdout",
     "output_type": "stream",
     "text": [
      "['id', 'title', 'vote_average', 'vote_count', 'status', 'release_date', 'revenue', 'runtime', 'adult', 'backdrop_path', 'budget', 'homepage', 'imdb_id', 'original_language', 'original_title', 'overview', 'popularity', 'poster_path', 'tagline', 'genres', 'production_companies', 'production_countries', 'spoken_languages', 'keywords']\n"
     ]
    }
   ],
   "execution_count": 49
  },
  {
   "metadata": {
    "ExecuteTime": {
     "end_time": "2025-08-05T15:39:42.135707Z",
     "start_time": "2025-08-05T15:39:41.603661Z"
    }
   },
   "cell_type": "code",
   "source": [
    "# Initial Data Cleaning - Remove Columns with Too Many Null Values\n",
    "\n",
    "# 1. Threshold setzen ( hier 50 % )\n",
    "# Falls eine Spalte mehr als 50 % Null Values hat, wird sie deleted.\n",
    "# Es bleiben nur Cols, die weniger als 50 % Null Values haben.\n",
    "threshold = len(df) * 0.5\n",
    "\n",
    "# Zähle die Null values pro Spalte\n",
    "null_counts = df.isnull().sum()\n",
    "\n",
    "\n",
    "# 2. Spalten ermitteln, bei denen null_counts > threshold\n",
    "cols_to_drop = null_counts[null_counts > threshold].index.tolist()\n",
    "\n",
    "# 3. Spalten löschen\n",
    "df = df.drop(columns=cols_to_drop)\n",
    "\n",
    "print(\"Original shape:\", df_raw.shape)\n",
    "print(\"Cleaned shape:\", df.shape)\n",
    "print(\"----------------------------------------\\n\")\n",
    "\n",
    "# To Checken was gedropped wurde:\n",
    "# dropped_cols als Set Difference\n",
    "dropped_cols = set(df_raw.columns) - set(df.columns)\n",
    "print(\"Dropped columns:\", dropped_cols)\n",
    "print(\"----------------------------------------\")\n",
    "print(\"----------------------------------------\")\n",
    "print(\"----------------------------------------\")\n",
    "print(\"Remaining columns:\", df.columns.tolist())"
   ],
   "id": "291ee682c778f75b",
   "outputs": [
    {
     "name": "stdout",
     "output_type": "stream",
     "text": [
      "Original shape: (1266348, 24)\n",
      "Cleaned shape: (1266348, 19)\n",
      "----------------------------------------\n",
      "\n",
      "Dropped columns: {'keywords', 'tagline', 'production_companies', 'homepage', 'backdrop_path'}\n",
      "----------------------------------------\n",
      "----------------------------------------\n",
      "----------------------------------------\n",
      "Remaining columns: ['id', 'title', 'vote_average', 'vote_count', 'status', 'release_date', 'revenue', 'runtime', 'adult', 'budget', 'imdb_id', 'original_language', 'original_title', 'overview', 'popularity', 'poster_path', 'genres', 'production_countries', 'spoken_languages']\n"
     ]
    }
   ],
   "execution_count": 50
  },
  {
   "metadata": {
    "ExecuteTime": {
     "end_time": "2025-08-05T15:39:42.193554Z",
     "start_time": "2025-08-05T15:39:42.157460Z"
    }
   },
   "cell_type": "code",
   "source": [
    "# Second Data Cleaning\n",
    "# Wir Droppen die Spalten, die wir nicht brauchen\n",
    "\n",
    "cols_to_drop_for_model = [\n",
    "    'id',\n",
    "    'title',\n",
    "    'original_title',\n",
    "    'imdb_id',\n",
    "    'poster_path',\n",
    "    'overview',\n",
    "    'vote_average',\n",
    "    'production_countries', # already using original language and genres\n",
    "    'spoken_languages' # already using original language\n",
    "]\n",
    "\n",
    "features = df.drop(columns=cols_to_drop_for_model)\n",
    "target = df['vote_average']\n",
    "\n",
    "\n",
    "\n",
    "print(\"Original DataFrame:\", df.shape)\n",
    "print(\"Features DataFrame:\", features.shape)\n",
    "print(\"-------------------------------------------\")\n",
    "print(\"The Features we are going to be using:\", features.columns.tolist())\n",
    "\n"
   ],
   "id": "1c28be1c47ae3acd",
   "outputs": [
    {
     "name": "stdout",
     "output_type": "stream",
     "text": [
      "Original DataFrame: (1266348, 19)\n",
      "Features DataFrame: (1266348, 10)\n",
      "-------------------------------------------\n",
      "The Features we are going to be using: ['vote_count', 'status', 'release_date', 'revenue', 'runtime', 'adult', 'budget', 'original_language', 'popularity', 'genres']\n"
     ]
    }
   ],
   "execution_count": 51
  },
  {
   "metadata": {
    "ExecuteTime": {
     "end_time": "2025-08-05T15:39:42.289144Z",
     "start_time": "2025-08-05T15:39:42.214196Z"
    }
   },
   "cell_type": "code",
   "source": [
    "# check values in different columns\n",
    "\n",
    "#print(df['status'].value_counts(dropna=False))\n",
    "#print(df['adult'].value_counts(dropna=False))\n",
    "#print(df['original_language'].value_counts())\n",
    "df['genres'].describe()"
   ],
   "id": "b22225652f343eab",
   "outputs": [
    {
     "data": {
      "text/plain": [
       "count          733267\n",
       "unique          14126\n",
       "top       Documentary\n",
       "freq           147108\n",
       "Name: genres, dtype: object"
      ]
     },
     "execution_count": 52,
     "metadata": {},
     "output_type": "execute_result"
    }
   ],
   "execution_count": 52
  },
  {
   "metadata": {
    "ExecuteTime": {
     "end_time": "2025-08-05T15:39:48.353538Z",
     "start_time": "2025-08-05T15:39:42.325313Z"
    }
   },
   "cell_type": "code",
   "source": [
    "# https://stackoverflow.com/questions/58033652/separating-categories-within-one-column-in-my-dataframe?utm_source=chatgpt.com\n",
    "\n",
    "def extract_genres(genre_str):\n",
    "    try:\n",
    "        genres = ast.literal_eval(genre_str)\n",
    "        return [g['name'] for g in genres]\n",
    "    except:\n",
    "        return []\n",
    "\n",
    "df['genre_list'] = df['genres'].apply(extract_genres)\n",
    "\n",
    "\n",
    "\n",
    "mlb = MultiLabelBinarizer()\n",
    "df_genres = pd.DataFrame(\n",
    "    mlb.fit_transform(df['genre_list']),\n",
    "    columns=[f\"has_{g}\" for g in mlb.classes_],\n",
    "    index=df.index\n",
    ")\n",
    "df = pd.concat([df, df_genres], axis=1)"
   ],
   "id": "5c014393960d5114",
   "outputs": [],
   "execution_count": 53
  },
  {
   "metadata": {
    "ExecuteTime": {
     "end_time": "2025-08-05T15:39:49.204109Z",
     "start_time": "2025-08-05T15:39:48.370218Z"
    }
   },
   "cell_type": "code",
   "source": [
    "# Feature Engineering\n",
    "scaler = MinMaxScaler()\n",
    "\n",
    "# Convert vote_count using logarithmic scaling\n",
    "# prevents extreme large values\n",
    "df['vote_count_log'] = np.log1p(df['vote_count'])\n",
    "\n",
    "# Use One Hot Encoding for the STATUS\n",
    "df['status_released'] = (df['status'] == 'Released').astype(int)\n",
    "# By Far the majority of movies are Released -> Binary Choice\n",
    "# 1 : Released, 0 : Not Released\n",
    "\n",
    "\n",
    "# Convert 'release_date' to datetime and extract the YEAR\n",
    "df['release_date'] = pd.to_datetime(df['release_date'], errors='coerce')\n",
    "# coerce -> If parsing fails, set the value to NaT (Not a Time)\n",
    "df['release_year'] = df['release_date'].dt.year\n",
    "df['release_year'] = df['release_year'].clip(upper=2025).clip(lower=1900)\n",
    "\n",
    "# Normalize BUDGET and REVENUE\n",
    "# Fill NaN values with 0 for budget and revenue\n",
    "df['budget'] = df['budget'].fillna(0)\n",
    "df['revenue'] = df['revenue'].fillna(0)\n",
    "\n",
    "# Scale budget and revenue between 0 and 1\n",
    "df[['budget_scaled', 'revenue_scaled']] = scaler.fit_transform(df[['budget', 'revenue']])\n",
    "\n",
    "\n",
    "# Convert RUNTIME to numeric, fill NaN with median\n",
    "df['runtime'] = df['runtime'].fillna(df['runtime'].median())\n",
    "df[['runtime_scaled']] = scaler.fit_transform(df[['runtime']])\n",
    "\n",
    "\n",
    "# Convert ADULT to binary (1 for True, 0 for False)\n",
    "# actually is statistically releveant, as almost 10 % are adult movies\n",
    "df['adult'] = df['adult'].astype(bool).astype(int)\n",
    "\n",
    "\n",
    "# One Hot Encoding for ORIGINAL_LANGUAGE\n",
    "df = pd.get_dummies(df, columns=['original_language'], prefix='lang', drop_first=True)\n",
    "\n",
    "\n",
    "# Min Max Scaling for POPULARITY\n",
    "df[['popularity_scaled']] = scaler.fit_transform(df[['popularity']])\n",
    "\n",
    "\n",
    "# Extracting features for genres with MultiLabelBinarizer in function above\n",
    "genre_features = [col for col in df.columns if col.startswith('has_')]\n",
    "\n",
    "# Final list of features\n",
    "feature_cols = [\n",
    "    'vote_count_log',\n",
    "    'status_released',\n",
    "    'release_year',\n",
    "    'budget_scaled',\n",
    "    'revenue_scaled',\n",
    "    'runtime_scaled',\n",
    "    'adult',\n",
    "    'popularity_scaled',\n",
    "    #'spoken_languages' — handled separately\n",
    "] + genre_features + [col for col in df.columns if col.startswith('lang_')]\n",
    "\n",
    "\n",
    "features = df[feature_cols]\n",
    "#target = df['vote_average']\n",
    "\n",
    "\n",
    "\n",
    "# fill the Not a Number values with 0\n",
    "features = features.fillna(0)"
   ],
   "id": "b1d8e065-73e0-4d1f-8e13-30f522858357",
   "outputs": [],
   "execution_count": 54
  },
  {
   "metadata": {
    "ExecuteTime": {
     "end_time": "2025-08-05T15:39:49.568314Z",
     "start_time": "2025-08-05T15:39:49.208714Z"
    }
   },
   "cell_type": "code",
   "source": [
    "# Split Data into Training, Validation, and Test Sets\n",
    "# We will use 70% for training, 20% for validation, 10% for tests\n",
    "\n",
    "#https://scikit-learn.org/stable/modules/generated/sklearn.model_selection.train_test_split.html\n",
    "\n",
    "\n",
    "# Splitting the Data into train and temporary sets (70% train, 30% temp)\n",
    "X_train, X_temp, y_train, y_temp = train_test_split(\n",
    "    # X_train : features\n",
    "    # X_temp : also features, 30 percent of the data\n",
    "    # y_train : target\n",
    "    # y_temp : still 30 percent of the data, but not features -> target values\n",
    "    features, target,\n",
    "    test_size=0.30,\n",
    "    )\n",
    "\n",
    "# Splitting the Temp set into validation and test sets (50% of temp each)\n",
    "X_val, X_test, y_val, y_test = train_test_split(\n",
    "    X_temp, y_temp,\n",
    "    test_size=1/3,\n",
    ")\n",
    "\n",
    "\n"
   ],
   "id": "73e95fd983f614e1",
   "outputs": [],
   "execution_count": 55
  },
  {
   "metadata": {
    "ExecuteTime": {
     "end_time": "2025-08-05T15:39:49.592284Z",
     "start_time": "2025-08-05T15:39:49.589774Z"
    }
   },
   "cell_type": "code",
   "source": [
    "print(\"Training set shape:\", X_train.shape)\n",
    "print(\"Validation set shape:\", X_val.shape)\n",
    "print(\"Test set shape:\", X_test.shape)\n",
    "print(\"Training target shape:\", y_train.shape)\n",
    "print(\"Validation target shape:\", y_val.shape)\n",
    "print(\"Test target shape:\", y_test.shape)\n"
   ],
   "id": "676b4bd04a02f89f",
   "outputs": [
    {
     "name": "stdout",
     "output_type": "stream",
     "text": [
      "Training set shape: (886443, 183)\n",
      "Validation set shape: (253270, 183)\n",
      "Test set shape: (126635, 183)\n",
      "Training target shape: (886443,)\n",
      "Validation target shape: (253270,)\n",
      "Test target shape: (126635,)\n"
     ]
    }
   ],
   "execution_count": 56
  },
  {
   "metadata": {
    "ExecuteTime": {
     "end_time": "2025-08-05T15:39:49.687992Z",
     "start_time": "2025-08-05T15:39:49.614007Z"
    }
   },
   "cell_type": "code",
   "source": [
    "# Check for object (non-numeric) dtypes\n",
    "print(features.dtypes[features.dtypes == 'object'])\n",
    "\n",
    "# Check for missing values\n",
    "print(\"NaNs in features:\", features.isna().sum().sum())\n",
    "print(\"NaNs in target:\", target.isna().sum())"
   ],
   "id": "9e5ae133caafb087",
   "outputs": [
    {
     "name": "stdout",
     "output_type": "stream",
     "text": [
      "Series([], dtype: object)\n",
      "NaNs in features: 0\n",
      "NaNs in target: 0\n"
     ]
    }
   ],
   "execution_count": 57
  },
  {
   "metadata": {
    "ExecuteTime": {
     "end_time": "2025-08-05T15:39:49.731176Z",
     "start_time": "2025-08-05T15:39:49.729083Z"
    }
   },
   "cell_type": "code",
   "source": [
    "# FUNCTION FOR LINEAR REGRESSION\n",
    "#https://scikit-learn.org/stable/modules/generated/sklearn.linear_model.LinearRegression.html\n",
    "def execute_linear_regression():\n",
    "# Initialize model\n",
    "    model = LinearRegression()\n",
    "\n",
    "    # Train model\n",
    "    model.fit(X_train, y_train)\n",
    "\n",
    "    # Predictions\n",
    "    y_val_pred = model.predict(X_val)\n",
    "    y_test_pred = model.predict(X_test)\n",
    "\n",
    "    # Return predictions and model\n",
    "    return model, y_val_pred, y_test_pred"
   ],
   "id": "db4e03173508b0e3",
   "outputs": [],
   "execution_count": 58
  },
  {
   "metadata": {
    "ExecuteTime": {
     "end_time": "2025-08-05T15:39:49.736974Z",
     "start_time": "2025-08-05T15:39:49.735299Z"
    }
   },
   "cell_type": "code",
   "source": [
    "# FUNCTION FOR RIDGE REGRESSION\n",
    "\n",
    "def execute_ridge_regression():\n",
    "\n",
    "\n",
    "# Initialize Ridge model\n",
    "#alpha : Regularisierung strength ( default = 1.0 )\n",
    "    model = Ridge()\n",
    "\n",
    "# Training of the model\n",
    "    model.fit(X_train, y_train)\n",
    "\n",
    "# Predictions\n",
    "    y_val_pred = model.predict(X_val)\n",
    "    y_test_pred = model.predict(X_test)\n",
    "\n",
    "    return y_val_pred, y_test_pred"
   ],
   "id": "87bad3e42b63a030",
   "outputs": [],
   "execution_count": 59
  },
  {
   "metadata": {
    "ExecuteTime": {
     "end_time": "2025-08-05T15:39:49.760342Z",
     "start_time": "2025-08-05T15:39:49.757236Z"
    }
   },
   "cell_type": "code",
   "source": [
    "# FUNCTION FOR POLYNOMIAL REGRESSION\n",
    "def execute_polynomial_regression():\n",
    "\n",
    "# Initialise model\n",
    "    model = LinearRegression()\n",
    "\n",
    "# Select numeric features for polynomial transform, not too many as too heavy workload\n",
    "    numeric_features = ['vote_count_log', 'budget_scaled', 'revenue_scaled', 'runtime_scaled', 'popularity_scaled']\n",
    "\n",
    "# Subsets to be trained on\n",
    "    x_train_num = X_train[numeric_features]\n",
    "    x_val_num = X_val[numeric_features]\n",
    "    x_test_num = X_test[numeric_features]\n",
    "\n",
    "\n",
    "# Create Polynomial Features of degree 2\n",
    "    poly = PolynomialFeatures(degree=2, include_bias=False)\n",
    "\n",
    "# Here, we create polynomial features for the numeric columns\n",
    "# .to_numpy() is already applied\n",
    "    x_train_poly = poly.fit_transform(x_train_num)\n",
    "    x_val_poly = poly.transform(x_val_num)\n",
    "    x_test_poly = poly.transform(x_test_num)\n",
    "\n",
    "# Set difference to obtain features that are not numeric\n",
    "    x_train_other = X_train.drop(columns=numeric_features)\n",
    "    x_val_other = X_val.drop(columns=numeric_features)\n",
    "    x_test_other = X_test.drop(columns=numeric_features)\n",
    "\n",
    "# Combine polynomial numeric with the rest\n",
    "# hsstack combines the arrays horizontally\n",
    "# here, .to_numpy() is needed\n",
    "    x_train_final = np.hstack([x_train_poly, x_train_other.to_numpy()])\n",
    "    x_val_final = np.hstack([x_val_poly, x_val_other.to_numpy()])\n",
    "    x_test_final = np.hstack([x_test_poly, x_test_other.to_numpy()])\n",
    "\n",
    "# Train model\n",
    "\n",
    "    model.fit(x_train_final, y_train)\n",
    "\n",
    "# Predict target features for validation and test sets\n",
    "    y_val_pred = model.predict(x_val_final)\n",
    "    y_test_pred = model.predict(x_test_final)\n",
    "\n",
    "# Return predictions\n",
    "    return y_val_pred, y_test_pred"
   ],
   "id": "ca767f310e2f82e2",
   "outputs": [],
   "execution_count": 60
  },
  {
   "metadata": {
    "ExecuteTime": {
     "end_time": "2025-08-05T15:39:51.039919Z",
     "start_time": "2025-08-05T15:39:49.780872Z"
    }
   },
   "cell_type": "code",
   "source": [
    "# Run the chosen model\n",
    "# Available models are:\n",
    "# 1.Linear Regression\n",
    "# 2.Ridge Regression\n",
    "# 3.Polynomial Regression (Linear Regression using Polynomial Features)\n",
    "y_val_pred, y_test_pred = execute_polynomial_regression()\n",
    "# Now we can Look at how well chosen model performs\n",
    "\n",
    "# R² score\n",
    "r2_val = r2_score(y_val, y_val_pred)\n",
    "r2_test = r2_score(y_test, y_test_pred)\n",
    "\n",
    "# Mean Squared Error\n",
    "mse_val = mean_squared_error(y_val, y_val_pred)\n",
    "mse_test = mean_squared_error(y_test, y_test_pred)\n",
    "\n",
    "print(\"📊 Validation R2:\", r2_val)\n",
    "print(\"----------------------\")\n",
    "print(\"📊 Test R2:\", r2_test)\n",
    "print(\"----------------------\")\n",
    "print(\"📉 Validation MSE:\", mse_val)\n",
    "print(\"----------------------\")\n",
    "print(\"📉 Test MSE:\", mse_test)\n",
    "print(\"----------------------\")"
   ],
   "id": "4dd36c906333cb5a",
   "outputs": [
    {
     "name": "stdout",
     "output_type": "stream",
     "text": [
      "📊 Validation R2: 0.4903049502055705\n",
      "----------------------\n",
      "📊 Test R2: 0.48902165157054023\n",
      "----------------------\n",
      "📉 Validation MSE: 4.428757307263814\n",
      "----------------------\n",
      "📉 Test MSE: 4.431976087199111\n",
      "----------------------\n"
     ]
    }
   ],
   "execution_count": 61
  },
  {
   "metadata": {
    "ExecuteTime": {
     "end_time": "2025-08-05T15:39:51.087320Z",
     "start_time": "2025-08-05T15:39:51.062239Z"
    }
   },
   "cell_type": "code",
   "source": [
    "\n",
    "\n",
    "# Create a DataFrame with predictions, actuals, and titles\n",
    "results = pd.DataFrame({\n",
    "\n",
    "    # take the correct movie title\n",
    "    'title': df.loc[X_test.index, 'title'],\n",
    "\n",
    "    'predicted_rating': y_test_pred,\n",
    "\n",
    "    'actual_rating': y_test\n",
    "})\n",
    "\n",
    "# Round values for easier reading\n",
    "results['predicted_rating'] = results['predicted_rating'].round(2)\n",
    "results['actual_rating'] = results['actual_rating'].round(2)\n",
    "\n",
    "res_non_zero = results[results['actual_rating'] > 0]\n",
    "\n",
    "# Show a random sample of 15 movies\n",
    "sample_results = res_non_zero.sample(20, random_state=42)\n",
    "\n",
    "display(sample_results)"
   ],
   "id": "12975a797b3afdff",
   "outputs": [
    {
     "data": {
      "text/plain": [
       "                                     title  predicted_rating  actual_rating\n",
       "3829                             Ladyhawke             12.76           7.03\n",
       "139578                       Freewayphobia              3.86           5.50\n",
       "107229                     Jackie & Oopjen              4.96           6.00\n",
       "103289                           Big Sonia              4.66           8.50\n",
       "102468              A Tramway in Jerusalem              5.23           4.17\n",
       "181267                              Daniel              3.10           5.00\n",
       "143988             Shinran: Path to Purity              3.95           5.00\n",
       "159988                    My Worst Wedding              3.93           3.70\n",
       "140465                           L'Assenza              3.89           5.00\n",
       "119397                Innan vintern kommer              4.44           3.80\n",
       "180940        Wimbledon 2011 Official Film              2.89          10.00\n",
       "265092                   As Above So Below              2.38           1.50\n",
       "34151                           Sam & Kate              7.66           6.67\n",
       "195782  Tom Cruise: Lights, Camera, Action              2.25           6.00\n",
       "243740          Ni Tan Dulce, Ni tan Salao              2.47          10.00\n",
       "171033                            Marbella              3.42           4.30\n",
       "67258                Superbug, Super Agent              5.89           5.80\n",
       "119544                Traveling on One Leg              4.98           5.80\n",
       "106444                         Che Guevara              4.66           4.80\n",
       "76696                In Love with the Dead              5.77           5.80"
      ],
      "text/html": [
       "<div>\n",
       "<style scoped>\n",
       "    .dataframe tbody tr th:only-of-type {\n",
       "        vertical-align: middle;\n",
       "    }\n",
       "\n",
       "    .dataframe tbody tr th {\n",
       "        vertical-align: top;\n",
       "    }\n",
       "\n",
       "    .dataframe thead th {\n",
       "        text-align: right;\n",
       "    }\n",
       "</style>\n",
       "<table border=\"1\" class=\"dataframe\">\n",
       "  <thead>\n",
       "    <tr style=\"text-align: right;\">\n",
       "      <th></th>\n",
       "      <th>title</th>\n",
       "      <th>predicted_rating</th>\n",
       "      <th>actual_rating</th>\n",
       "    </tr>\n",
       "  </thead>\n",
       "  <tbody>\n",
       "    <tr>\n",
       "      <th>3829</th>\n",
       "      <td>Ladyhawke</td>\n",
       "      <td>12.76</td>\n",
       "      <td>7.03</td>\n",
       "    </tr>\n",
       "    <tr>\n",
       "      <th>139578</th>\n",
       "      <td>Freewayphobia</td>\n",
       "      <td>3.86</td>\n",
       "      <td>5.50</td>\n",
       "    </tr>\n",
       "    <tr>\n",
       "      <th>107229</th>\n",
       "      <td>Jackie &amp; Oopjen</td>\n",
       "      <td>4.96</td>\n",
       "      <td>6.00</td>\n",
       "    </tr>\n",
       "    <tr>\n",
       "      <th>103289</th>\n",
       "      <td>Big Sonia</td>\n",
       "      <td>4.66</td>\n",
       "      <td>8.50</td>\n",
       "    </tr>\n",
       "    <tr>\n",
       "      <th>102468</th>\n",
       "      <td>A Tramway in Jerusalem</td>\n",
       "      <td>5.23</td>\n",
       "      <td>4.17</td>\n",
       "    </tr>\n",
       "    <tr>\n",
       "      <th>181267</th>\n",
       "      <td>Daniel</td>\n",
       "      <td>3.10</td>\n",
       "      <td>5.00</td>\n",
       "    </tr>\n",
       "    <tr>\n",
       "      <th>143988</th>\n",
       "      <td>Shinran: Path to Purity</td>\n",
       "      <td>3.95</td>\n",
       "      <td>5.00</td>\n",
       "    </tr>\n",
       "    <tr>\n",
       "      <th>159988</th>\n",
       "      <td>My Worst Wedding</td>\n",
       "      <td>3.93</td>\n",
       "      <td>3.70</td>\n",
       "    </tr>\n",
       "    <tr>\n",
       "      <th>140465</th>\n",
       "      <td>L'Assenza</td>\n",
       "      <td>3.89</td>\n",
       "      <td>5.00</td>\n",
       "    </tr>\n",
       "    <tr>\n",
       "      <th>119397</th>\n",
       "      <td>Innan vintern kommer</td>\n",
       "      <td>4.44</td>\n",
       "      <td>3.80</td>\n",
       "    </tr>\n",
       "    <tr>\n",
       "      <th>180940</th>\n",
       "      <td>Wimbledon 2011 Official Film</td>\n",
       "      <td>2.89</td>\n",
       "      <td>10.00</td>\n",
       "    </tr>\n",
       "    <tr>\n",
       "      <th>265092</th>\n",
       "      <td>As Above So Below</td>\n",
       "      <td>2.38</td>\n",
       "      <td>1.50</td>\n",
       "    </tr>\n",
       "    <tr>\n",
       "      <th>34151</th>\n",
       "      <td>Sam &amp; Kate</td>\n",
       "      <td>7.66</td>\n",
       "      <td>6.67</td>\n",
       "    </tr>\n",
       "    <tr>\n",
       "      <th>195782</th>\n",
       "      <td>Tom Cruise: Lights, Camera, Action</td>\n",
       "      <td>2.25</td>\n",
       "      <td>6.00</td>\n",
       "    </tr>\n",
       "    <tr>\n",
       "      <th>243740</th>\n",
       "      <td>Ni Tan Dulce, Ni tan Salao</td>\n",
       "      <td>2.47</td>\n",
       "      <td>10.00</td>\n",
       "    </tr>\n",
       "    <tr>\n",
       "      <th>171033</th>\n",
       "      <td>Marbella</td>\n",
       "      <td>3.42</td>\n",
       "      <td>4.30</td>\n",
       "    </tr>\n",
       "    <tr>\n",
       "      <th>67258</th>\n",
       "      <td>Superbug, Super Agent</td>\n",
       "      <td>5.89</td>\n",
       "      <td>5.80</td>\n",
       "    </tr>\n",
       "    <tr>\n",
       "      <th>119544</th>\n",
       "      <td>Traveling on One Leg</td>\n",
       "      <td>4.98</td>\n",
       "      <td>5.80</td>\n",
       "    </tr>\n",
       "    <tr>\n",
       "      <th>106444</th>\n",
       "      <td>Che Guevara</td>\n",
       "      <td>4.66</td>\n",
       "      <td>4.80</td>\n",
       "    </tr>\n",
       "    <tr>\n",
       "      <th>76696</th>\n",
       "      <td>In Love with the Dead</td>\n",
       "      <td>5.77</td>\n",
       "      <td>5.80</td>\n",
       "    </tr>\n",
       "  </tbody>\n",
       "</table>\n",
       "</div>"
      ]
     },
     "metadata": {},
     "output_type": "display_data"
    }
   ],
   "execution_count": 62
  },
  {
   "metadata": {
    "ExecuteTime": {
     "end_time": "2025-08-05T15:39:51.240369Z",
     "start_time": "2025-08-05T15:39:51.110065Z"
    }
   },
   "cell_type": "code",
   "source": [
    "import matplotlib.pyplot as plt\n",
    "\n",
    "plt.figure(figsize=(8, 6))\n",
    "plt.scatter(y_test, y_test_pred, alpha=0.3)\n",
    "plt.xlabel(\"Actual Ratings\")\n",
    "plt.ylabel(\"Predicted Ratings\")\n",
    "plt.title(\"Predicted vs Actual Ratings\")\n",
    "plt.plot([0, 10], [0, 10], 'r', lw=3)  # perfect prediction line\n",
    "plt.show()"
   ],
   "id": "10ccbd77a563a377",
   "outputs": [
    {
     "data": {
      "text/plain": [
       "<Figure size 800x600 with 1 Axes>"
      ],
      "image/png": "[encoded data removed]"
     },
     "metadata": {},
     "output_type": "display_data"
    }
   ],
   "execution_count": 63
  },
  {
   "metadata": {
    "ExecuteTime": {
     "end_time": "2025-08-05T15:39:51.263089Z",
     "start_time": "2025-08-05T15:39:51.261390Z"
    }
   },
   "cell_type": "code",
   "source": "",
   "id": "abfc1b68eed7096e",
   "outputs": [],
   "execution_count": null
  }
 ],
 "metadata": {
  "kernelspec": {
   "display_name": "Python 3 (ipykernel)",
   "language": "python",
   "name": "python3"
  },
  "language_info": {
   "codemirror_mode": {
    "name": "ipython",
    "version": 3
   },
   "file_extension": ".py",
   "mimetype": "text/x-python",
   "name": "python",
   "nbconvert_exporter": "python",
   "pygments_lexer": "ipython3",
   "version": "3.13.3"
  }
 },
 "nbformat": 4,
 "nbformat_minor": 5
}
