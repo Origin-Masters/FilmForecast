{
 "cells": [
  {
   "cell_type": "code",
   "id": "addadea1-cb3c-4a76-b5bb-12eb1950fe4c",
   "metadata": {
    "ExecuteTime": {
     "end_time": "2025-08-06T10:52:00.783315Z",
     "start_time": "2025-08-06T10:51:56.004671Z"
    }
   },
   "source": [
    "import pandas as pd\n",
    "import ast\n",
    "import numpy as np\n",
    "from sklearn.preprocessing import MinMaxScaler\n",
    "\n",
    "from sklearn.preprocessing import MultiLabelBinarizer, PolynomialFeatures\n",
    "\n",
    "from sklearn.model_selection import train_test_split\n",
    "\n",
    "from sklearn.linear_model import LinearRegression, Ridge\n",
    "from sklearn.metrics import mean_squared_error, r2_score\n",
    "\n",
    "df = pd.read_csv(\"../Database/Dataset.csv\")\n",
    "df_raw = df.copy()  # Keep a backup of the original dataset"
   ],
   "outputs": [],
   "execution_count": 37
  },
  {
   "metadata": {
    "ExecuteTime": {
     "end_time": "2025-08-06T10:52:00.795656Z",
     "start_time": "2025-08-06T10:52:00.792996Z"
    }
   },
   "cell_type": "code",
   "source": "df.shape",
   "id": "6b15adb25f1b509d",
   "outputs": [
    {
     "data": {
      "text/plain": [
       "(1266865, 24)"
      ]
     },
     "execution_count": 38,
     "metadata": {},
     "output_type": "execute_result"
    }
   ],
   "execution_count": 38
  },
  {
   "metadata": {
    "ExecuteTime": {
     "end_time": "2025-08-06T10:52:00.849657Z",
     "start_time": "2025-08-06T10:52:00.846529Z"
    }
   },
   "cell_type": "code",
   "source": "print(df.columns.tolist())",
   "id": "de8a9825dc2fba0a",
   "outputs": [
    {
     "name": "stdout",
     "output_type": "stream",
     "text": [
      "['id', 'title', 'vote_average', 'vote_count', 'status', 'release_date', 'revenue', 'runtime', 'adult', 'backdrop_path', 'budget', 'homepage', 'imdb_id', 'original_language', 'original_title', 'overview', 'popularity', 'poster_path', 'tagline', 'genres', 'production_companies', 'production_countries', 'spoken_languages', 'keywords']\n"
     ]
    }
   ],
   "execution_count": 39
  },
  {
   "metadata": {
    "ExecuteTime": {
     "end_time": "2025-08-06T10:52:01.394636Z",
     "start_time": "2025-08-06T10:52:00.899247Z"
    }
   },
   "cell_type": "code",
   "source": [
    "# Initial Data Cleaning - Remove Columns with Too Many Null Values\n",
    "\n",
    "# 1. Set a threshold for null values (50%).\n",
    "# Columns with more null values than the threshold will be dropped.\n",
    "threshold = len(df) * 0.5\n",
    "\n",
    "# Count null values for each column.\n",
    "null_counts = df.isnull().sum()\n",
    "\n",
    "\n",
    "# 2. Identify columns where the null count exceeds the threshold.\n",
    "cols_to_drop = null_counts[null_counts > threshold].index.tolist()\n",
    "\n",
    "# 3. Drop the identified columns.\n",
    "df = df.drop(columns=cols_to_drop)\n",
    "\n",
    "print(\"Original shape:\", df_raw.shape)\n",
    "print(\"Cleaned shape:\", df.shape)\n",
    "print(\"----------------------------------------\\n\")\n",
    "\n",
    "# Check which columns were dropped.\n",
    "# Use set difference to find the dropped columns.\n",
    "dropped_cols = set(df_raw.columns) - set(df.columns)\n",
    "print(\"Dropped columns:\", dropped_cols)\n",
    "print(\"----------------------------------------\")\n",
    "print(\"----------------------------------------\")\n",
    "print(\"----------------------------------------\")\n",
    "print(\"Remaining columns:\", df.columns.tolist())"
   ],
   "id": "291ee682c778f75b",
   "outputs": [
    {
     "name": "stdout",
     "output_type": "stream",
     "text": [
      "Original shape: (1266865, 24)\n",
      "Cleaned shape: (1266865, 19)\n",
      "----------------------------------------\n",
      "\n",
      "Dropped columns: {'keywords', 'homepage', 'backdrop_path', 'production_companies', 'tagline'}\n",
      "----------------------------------------\n",
      "----------------------------------------\n",
      "----------------------------------------\n",
      "Remaining columns: ['id', 'title', 'vote_average', 'vote_count', 'status', 'release_date', 'revenue', 'runtime', 'adult', 'budget', 'imdb_id', 'original_language', 'original_title', 'overview', 'popularity', 'poster_path', 'genres', 'production_countries', 'spoken_languages']\n"
     ]
    }
   ],
   "execution_count": 40
  },
  {
   "metadata": {
    "ExecuteTime": {
     "end_time": "2025-08-06T10:52:01.432915Z",
     "start_time": "2025-08-06T10:52:01.403321Z"
    }
   },
   "cell_type": "code",
   "source": [
    "# Second Data Cleaning\n",
    "# Drop columns that are not needed for the model.\n",
    "\n",
    "cols_to_drop_for_model = [\n",
    "    'id',\n",
    "    'title',\n",
    "    'original_title',\n",
    "    'imdb_id',\n",
    "    'poster_path',\n",
    "    'overview',\n",
    "    'vote_average',\n",
    "    'production_countries', # already using original language and genres\n",
    "    'spoken_languages' # already using original language\n",
    "]\n",
    "\n",
    "features = df.drop(columns=cols_to_drop_for_model)\n",
    "target = df['vote_average']\n",
    "\n",
    "\n",
    "\n",
    "print(\"Original DataFrame:\", df.shape)\n",
    "print(\"Features DataFrame:\", features.shape)\n",
    "print(\"-------------------------------------------\")\n",
    "print(\"The Features we are going to be using:\", features.columns.tolist())\n",
    "\n"
   ],
   "id": "1c28be1c47ae3acd",
   "outputs": [
    {
     "name": "stdout",
     "output_type": "stream",
     "text": [
      "Original DataFrame: (1266865, 19)\n",
      "Features DataFrame: (1266865, 10)\n",
      "-------------------------------------------\n",
      "The Features we are going to be using: ['vote_count', 'status', 'release_date', 'revenue', 'runtime', 'adult', 'budget', 'original_language', 'popularity', 'genres']\n"
     ]
    }
   ],
   "execution_count": 41
  },
  {
   "metadata": {
    "ExecuteTime": {
     "end_time": "2025-08-06T10:52:01.506445Z",
     "start_time": "2025-08-06T10:52:01.456642Z"
    }
   },
   "cell_type": "code",
   "source": [
    "# check values in different columns\n",
    "\n",
    "#print(df['status'].value_counts(dropna=False))\n",
    "#print(df['adult'].value_counts(dropna=False))\n",
    "#print(df['original_language'].value_counts())\n",
    "df['genres'].describe()"
   ],
   "id": "b22225652f343eab",
   "outputs": [
    {
     "data": {
      "text/plain": [
       "count          733450\n",
       "unique          14128\n",
       "top       Documentary\n",
       "freq           147145\n",
       "Name: genres, dtype: object"
      ]
     },
     "execution_count": 42,
     "metadata": {},
     "output_type": "execute_result"
    }
   ],
   "execution_count": 42
  },
  {
   "metadata": {
    "ExecuteTime": {
     "end_time": "2025-08-06T10:52:06.768105Z",
     "start_time": "2025-08-06T10:52:01.597554Z"
    }
   },
   "cell_type": "code",
   "source": [
    "# https://stackoverflow.com/questions/58033652/separating-categories-within-one-column-in-my-dataframe?utm_source=chatgpt.com\n",
    "\n",
    "def extract_genres(genre_str):\n",
    "    try:\n",
    "        genres = ast.literal_eval(genre_str)\n",
    "        return [g['name'] for g in genres]\n",
    "    except:\n",
    "        return []\n",
    "\n",
    "df['genre_list'] = df['genres'].apply(extract_genres)\n",
    "\n",
    "\n",
    "\n",
    "mlb = MultiLabelBinarizer()\n",
    "df_genres = pd.DataFrame(\n",
    "    mlb.fit_transform(df['genre_list']),\n",
    "    columns=[f\"has_{g}\" for g in mlb.classes_],\n",
    "    index=df.index\n",
    ")\n",
    "df = pd.concat([df, df_genres], axis=1)"
   ],
   "id": "5c014393960d5114",
   "outputs": [],
   "execution_count": 43
  },
  {
   "metadata": {
    "ExecuteTime": {
     "end_time": "2025-08-06T10:52:07.666353Z",
     "start_time": "2025-08-06T10:52:06.919290Z"
    }
   },
   "cell_type": "code",
   "source": [
    "# Feature Engineering\n",
    "scaler = MinMaxScaler()\n",
    "\n",
    "# Convert vote_count using logarithmic scaling\n",
    "# prevents extreme large values\n",
    "df['vote_count_log'] = np.log1p(df['vote_count'])\n",
    "\n",
    "# Use One Hot Encoding for the STATUS\n",
    "df['status_released'] = (df['status'] == 'Released').astype(int)\n",
    "# By Far the majority of movies are Released -> Binary Choice\n",
    "# 1 : Released, 0 : Not Released\n",
    "\n",
    "\n",
    "# Convert 'release_date' to datetime and extract the YEAR\n",
    "df['release_date'] = pd.to_datetime(df['release_date'], errors='coerce')\n",
    "# coerce -> If parsing fails, set the value to NaT (Not a Time)\n",
    "df['release_year'] = df['release_date'].dt.year\n",
    "df['release_year'] = df['release_year'].clip(upper=2025).clip(lower=1900)\n",
    "\n",
    "# Normalize BUDGET and REVENUE\n",
    "# Fill NaN values with 0 for budget and revenue.\n",
    "df['budget'] = df['budget'].fillna(0)\n",
    "df['revenue'] = df['revenue'].fillna(0)\n",
    "\n",
    "# Scale budget and revenue between 0 and 1.\n",
    "df[['budget_scaled', 'revenue_scaled']] = scaler.fit_transform(df[['budget', 'revenue']])\n",
    "\n",
    "\n",
    "# Convert RUNTIME to numeric, fill NaN with median.\n",
    "df['runtime'] = df['runtime'].fillna(df['runtime'].median())\n",
    "df[['runtime_scaled']] = scaler.fit_transform(df[['runtime']])\n",
    "\n",
    "\n",
    "# Convert ADULT to binary (1 for True, 0 for False).\n",
    "# This is statistically relevant, as almost 10% of movies are for adults.\n",
    "df['adult'] = df['adult'].astype(bool).astype(int)\n",
    "\n",
    "\n",
    "# One Hot Encoding for ORIGINAL_LANGUAGE.\n",
    "df = pd.get_dummies(df, columns=['original_language'], prefix='lang', drop_first=True)\n",
    "\n",
    "\n",
    "# Min Max Scaling for POPULARITY.\n",
    "df[['popularity_scaled']] = scaler.fit_transform(df[['popularity']])\n",
    "\n",
    "\n",
    "# Extracting features for genres with MultiLabelBinarizer in the function above.\n",
    "genre_features = [col for col in df.columns if col.startswith('has_')]\n",
    "\n",
    "# Final list of features.\n",
    "feature_cols = [\n",
    "    'vote_count_log',\n",
    "    'status_released',\n",
    "    'release_year',\n",
    "    'budget_scaled',\n",
    "    'revenue_scaled',\n",
    "    'runtime_scaled',\n",
    "    'adult',\n",
    "    'popularity_scaled',\n",
    "    #'spoken_languages' — handled separately\n",
    "] + genre_features + [col for col in df.columns if col.startswith('lang_')]\n",
    "\n",
    "\n",
    "features = df[feature_cols]\n",
    "#target = df['vote_average']\n",
    "\n",
    "\n",
    "\n",
    "# Fill the Not a Number values with 0.\n",
    "features = features.fillna(0)"
   ],
   "id": "b1d8e065-73e0-4d1f-8e13-30f522858357",
   "outputs": [],
   "execution_count": 44
  },
  {
   "metadata": {
    "ExecuteTime": {
     "end_time": "2025-08-06T10:52:08.054026Z",
     "start_time": "2025-08-06T10:52:07.673918Z"
    }
   },
   "cell_type": "code",
   "source": [
    "# Split Data into Training, Validation, and Test Sets\n",
    "# We will use 70% for training, 20% for validation, and 10% for testing.\n",
    "\n",
    "#https://scikit-learn.org/stable/modules/generated/sklearn.model_selection.train_test_split.html\n",
    "\n",
    "\n",
    "# Splitting the Data into train and temporary sets (70% train, 30% temp).\n",
    "X_train, X_temp, y_train, y_temp = train_test_split(\n",
    "    # X_train : features\n",
    "    # X_temp : also features, 30 percent of the data\n",
    "    # y_train : target\n",
    "    # y_temp : still 30 percent of the data, but not features -> target values\n",
    "    features, target,\n",
    "    test_size=0.30,\n",
    "    )\n",
    "\n",
    "# Splitting the Temp set into validation and test sets (50% of temp each)\n",
    "X_val, X_test, y_val, y_test = train_test_split(\n",
    "    X_temp, y_temp,\n",
    "    test_size=1/3,\n",
    ")\n",
    "\n",
    "\n"
   ],
   "id": "73e95fd983f614e1",
   "outputs": [],
   "execution_count": 45
  },
  {
   "metadata": {
    "ExecuteTime": {
     "end_time": "2025-08-06T10:52:08.065254Z",
     "start_time": "2025-08-06T10:52:08.063166Z"
    }
   },
   "cell_type": "code",
   "source": [
    "print(\"Training set shape:\", X_train.shape)\n",
    "print(\"Validation set shape:\", X_val.shape)\n",
    "print(\"Test set shape:\", X_test.shape)\n",
    "print(\"Training target shape:\", y_train.shape)\n",
    "print(\"Validation target shape:\", y_val.shape)\n",
    "print(\"Test target shape:\", y_test.shape)\n"
   ],
   "id": "676b4bd04a02f89f",
   "outputs": [
    {
     "name": "stdout",
     "output_type": "stream",
     "text": [
      "Training set shape: (886805, 183)\n",
      "Validation set shape: (253373, 183)\n",
      "Test set shape: (126687, 183)\n",
      "Training target shape: (886805,)\n",
      "Validation target shape: (253373,)\n",
      "Test target shape: (126687,)\n"
     ]
    }
   ],
   "execution_count": 46
  },
  {
   "metadata": {
    "ExecuteTime": {
     "end_time": "2025-08-06T10:52:08.188709Z",
     "start_time": "2025-08-06T10:52:08.117033Z"
    }
   },
   "cell_type": "code",
   "source": [
    "# Check for object (non-numeric) dtypes\n",
    "print(features.dtypes[features.dtypes == 'object'])\n",
    "\n",
    "# Check for missing values\n",
    "print(\"NaNs in features:\", features.isna().sum().sum())\n",
    "print(\"NaNs in target:\", target.isna().sum())"
   ],
   "id": "9e5ae133caafb087",
   "outputs": [
    {
     "name": "stdout",
     "output_type": "stream",
     "text": [
      "Series([], dtype: object)\n",
      "NaNs in features: 0\n",
      "NaNs in target: 0\n"
     ]
    }
   ],
   "execution_count": 47
  },
  {
   "metadata": {
    "ExecuteTime": {
     "end_time": "2025-08-06T10:52:08.199376Z",
     "start_time": "2025-08-06T10:52:08.196913Z"
    }
   },
   "cell_type": "code",
   "source": [
    "# FUNCTION FOR LINEAR REGRESSION\n",
    "#https://scikit-learn.org/stable/modules/generated/sklearn.linear_model.LinearRegression.html\n",
    "def execute_linear_regression():\n",
    "# Initialize model\n",
    "    model = LinearRegression()\n",
    "\n",
    "    # Train model\n",
    "    model.fit(X_train, y_train)\n",
    "\n",
    "    # Predictions\n",
    "    y_val_pred = model.predict(X_val)\n",
    "    y_test_pred = model.predict(X_test)\n",
    "\n",
    "    # Return predictions and model\n",
    "    return model, y_val_pred, y_test_pred"
   ],
   "id": "db4e03173508b0e3",
   "outputs": [],
   "execution_count": 48
  },
  {
   "metadata": {
    "ExecuteTime": {
     "end_time": "2025-08-06T10:52:08.249190Z",
     "start_time": "2025-08-06T10:52:08.246686Z"
    }
   },
   "cell_type": "code",
   "source": [
    "# FUNCTION FOR RIDGE REGRESSION\n",
    "\n",
    "def execute_ridge_regression():\n",
    "\n",
    "\n",
    "# Initialize Ridge model.\n",
    "# alpha: Regularization strength (default = 1.0).\n",
    "    model = Ridge()\n",
    "\n",
    "# Train the model.\n",
    "    model.fit(X_train, y_train)\n",
    "\n",
    "# Predictions.\n",
    "    y_val_pred = model.predict(X_val)\n",
    "    y_test_pred = model.predict(X_test)\n",
    "\n",
    "    return y_val_pred, y_test_pred"
   ],
   "id": "87bad3e42b63a030",
   "outputs": [],
   "execution_count": 49
  },
  {
   "metadata": {
    "ExecuteTime": {
     "end_time": "2025-08-06T10:52:08.305196Z",
     "start_time": "2025-08-06T10:52:08.301641Z"
    }
   },
   "cell_type": "code",
   "source": [
    "# FUNCTION FOR POLYNOMIAL REGRESSION\n",
    "def execute_polynomial_regression():\n",
    "\n",
    "# Initialize model.\n",
    "    model = LinearRegression()\n",
    "\n",
    "# Select numeric features for polynomial transform; not too many to avoid heavy workload.\n",
    "    numeric_features = ['vote_count_log', 'budget_scaled', 'revenue_scaled', 'runtime_scaled', 'popularity_scaled']\n",
    "\n",
    "# Create subsets for training, validation, and testing.\n",
    "    x_train_num = X_train[numeric_features]\n",
    "    x_val_num = X_val[numeric_features]\n",
    "    x_test_num = X_test[numeric_features]\n",
    "\n",
    "\n",
    "# Create Polynomial Features of degree 2.\n",
    "    poly = PolynomialFeatures(degree=2, include_bias=False)\n",
    "\n",
    "# Here, we create polynomial features for the numeric columns.\n",
    "# .to_numpy() is not needed here as fit_transform handles it.\n",
    "    x_train_poly = poly.fit_transform(x_train_num)\n",
    "    x_val_poly = poly.transform(x_val_num)\n",
    "    x_test_poly = poly.transform(x_test_num)\n",
    "\n",
    "# Use set difference to obtain features that are not numeric.\n",
    "    x_train_other = X_train.drop(columns=numeric_features)\n",
    "    x_val_other = X_val.drop(columns=numeric_features)\n",
    "    x_test_other = X_test.drop(columns=numeric_features)\n",
    "\n",
    "# Combine polynomial numeric features with the rest.\n",
    "# hstack combines the arrays horizontally.\n",
    "# here, .to_numpy() is needed to convert DataFrames to NumPy arrays.\n",
    "    x_train_final = np.hstack([x_train_poly, x_train_other.to_numpy()])\n",
    "    x_val_final = np.hstack([x_val_poly, x_val_other.to_numpy()])\n",
    "    x_test_final = np.hstack([x_test_poly, x_test_other.to_numpy()])\n",
    "\n",
    "# Train the model.\n",
    "\n",
    "    model.fit(x_train_final, y_train)\n",
    "\n",
    "# Predict target features for validation and test sets.\n",
    "    y_val_pred = model.predict(x_val_final)\n",
    "    y_test_pred = model.predict(x_test_final)\n",
    "\n",
    "# Return predictions.\n",
    "    return y_val_pred, y_test_pred"
   ],
   "id": "ca767f310e2f82e2",
   "outputs": [],
   "execution_count": 50
  },
  {
   "metadata": {
    "ExecuteTime": {
     "end_time": "2025-08-06T10:52:18.952018Z",
     "start_time": "2025-08-06T10:52:08.356535Z"
    }
   },
   "cell_type": "code",
   "source": [
    "# Run the chosen model\n",
    "# Available models are:\n",
    "# 1. Linear Regression\n",
    "# 2. Ridge Regression\n",
    "# 3. Polynomial Regression (Linear Regression using Polynomial Features)\n",
    "y_val_pred, y_test_pred = execute_polynomial_regression()\n",
    "# Now we can look at how well the chosen model performs.\n",
    "\n",
    "# R² score\n",
    "r2_val = r2_score(y_val, y_val_pred)\n",
    "r2_test = r2_score(y_test, y_test_pred)\n",
    "\n",
    "# Mean Squared Error\n",
    "mse_val = mean_squared_error(y_val, y_val_pred)\n",
    "mse_test = mean_squared_error(y_test, y_test_pred)\n",
    "\n",
    "print(\"📊 Validation R2:\", r2_val)\n",
    "print(\"----------------------\")\n",
    "print(\"📊 Test R2:\", r2_test)\n",
    "print(\"----------------------\")\n",
    "print(\"📉 Validation MSE:\", mse_val)\n",
    "print(\"----------------------\")\n",
    "print(\"📉 Test MSE:\", mse_test)\n",
    "print(\"----------------------\")"
   ],
   "id": "4dd36c906333cb5a",
   "outputs": [
    {
     "name": "stdout",
     "output_type": "stream",
     "text": [
      "📊 Validation R2: 0.6846689641712845\n",
      "----------------------\n",
      "📊 Test R2: 0.6887243635931075\n",
      "----------------------\n",
      "📉 Validation MSE: 2.727904667358976\n",
      "----------------------\n",
      "📉 Test MSE: 2.698791209433363\n",
      "----------------------\n"
     ]
    }
   ],
   "execution_count": 51
  },
  {
   "metadata": {
    "ExecuteTime": {
     "end_time": "2025-08-06T10:52:19.059190Z",
     "start_time": "2025-08-06T10:52:19.027772Z"
    }
   },
   "cell_type": "code",
   "source": [
    "\n",
    "\n",
    "# Create a DataFrame with predictions, actuals, and titles.\n",
    "results = pd.DataFrame({\n",
    "\n",
    "    # take the correct movie title\n",
    "    'title': df.loc[X_test.index, 'title'],\n",
    "\n",
    "    'predicted_rating': y_test_pred,\n",
    "\n",
    "    'actual_rating': y_test\n",
    "})\n",
    "\n",
    "# Round values for easier reading.\n",
    "results['predicted_rating'] = results['predicted_rating'].round(2)\n",
    "results['actual_rating'] = results['actual_rating'].round(2)\n",
    "\n",
    "res_non_zero = results[results['actual_rating'] > 0]\n",
    "\n",
    "# Show a random sample of 20 movies.\n",
    "sample_results = res_non_zero.sample(20, random_state=42)\n",
    "\n",
    "display(sample_results)"
   ],
   "id": "12975a797b3afdff",
   "outputs": [
    {
     "data": {
      "text/plain": [
       "                                                    title  predicted_rating  \\\n",
       "104293                           An Alligator Named Daisy              6.75   \n",
       "299280                                         Home Movie              3.51   \n",
       "195436                            Prisionera del recuerdo              4.79   \n",
       "48573                                               Megan              8.19   \n",
       "118494                     Nine Ways to Approach Helsinki              6.48   \n",
       "190911                                          Fade Away              4.58   \n",
       "62441                                                They              7.84   \n",
       "270286                            The Craven Cove Murders              3.24   \n",
       "115161  Yo-kai Watch Jam: Yo-kai Academy Y - Can a Cat...              6.22   \n",
       "338305                                     Juvenile Court              3.20   \n",
       "175555                                           The Cook              4.65   \n",
       "213080                                   Paper Parachutes              4.79   \n",
       "117756                                             Karger              6.44   \n",
       "259187                                   Lesbian Tutors 3              3.42   \n",
       "72313                                    Beautiful People              7.74   \n",
       "307113                                         The Fencer              3.39   \n",
       "218040                       El erotismo y la informática              4.59   \n",
       "95949                                 The Dead Sleep Easy              7.01   \n",
       "49001                                The Lion of the Star              8.13   \n",
       "318236  Pastor Jones 2: Lord Guide My 16 Year Old Daug...              3.23   \n",
       "\n",
       "        actual_rating  \n",
       "104293           6.20  \n",
       "299280          10.00  \n",
       "195436           5.00  \n",
       "48573            5.76  \n",
       "118494           7.00  \n",
       "190911           7.50  \n",
       "62441            7.50  \n",
       "270286           6.00  \n",
       "115161           7.00  \n",
       "338305           4.00  \n",
       "175555           4.50  \n",
       "213080           6.00  \n",
       "117756           5.40  \n",
       "259187           8.50  \n",
       "72313            3.80  \n",
       "307113           2.00  \n",
       "218040           3.50  \n",
       "95949            4.10  \n",
       "49001            7.10  \n",
       "318236           1.00  "
      ],
      "text/html": [
       "<div>\n",
       "<style scoped>\n",
       "    .dataframe tbody tr th:only-of-type {\n",
       "        vertical-align: middle;\n",
       "    }\n",
       "\n",
       "    .dataframe tbody tr th {\n",
       "        vertical-align: top;\n",
       "    }\n",
       "\n",
       "    .dataframe thead th {\n",
       "        text-align: right;\n",
       "    }\n",
       "</style>\n",
       "<table border=\"1\" class=\"dataframe\">\n",
       "  <thead>\n",
       "    <tr style=\"text-align: right;\">\n",
       "      <th></th>\n",
       "      <th>title</th>\n",
       "      <th>predicted_rating</th>\n",
       "      <th>actual_rating</th>\n",
       "    </tr>\n",
       "  </thead>\n",
       "  <tbody>\n",
       "    <tr>\n",
       "      <th>104293</th>\n",
       "      <td>An Alligator Named Daisy</td>\n",
       "      <td>6.75</td>\n",
       "      <td>6.20</td>\n",
       "    </tr>\n",
       "    <tr>\n",
       "      <th>299280</th>\n",
       "      <td>Home Movie</td>\n",
       "      <td>3.51</td>\n",
       "      <td>10.00</td>\n",
       "    </tr>\n",
       "    <tr>\n",
       "      <th>195436</th>\n",
       "      <td>Prisionera del recuerdo</td>\n",
       "      <td>4.79</td>\n",
       "      <td>5.00</td>\n",
       "    </tr>\n",
       "    <tr>\n",
       "      <th>48573</th>\n",
       "      <td>Megan</td>\n",
       "      <td>8.19</td>\n",
       "      <td>5.76</td>\n",
       "    </tr>\n",
       "    <tr>\n",
       "      <th>118494</th>\n",
       "      <td>Nine Ways to Approach Helsinki</td>\n",
       "      <td>6.48</td>\n",
       "      <td>7.00</td>\n",
       "    </tr>\n",
       "    <tr>\n",
       "      <th>190911</th>\n",
       "      <td>Fade Away</td>\n",
       "      <td>4.58</td>\n",
       "      <td>7.50</td>\n",
       "    </tr>\n",
       "    <tr>\n",
       "      <th>62441</th>\n",
       "      <td>They</td>\n",
       "      <td>7.84</td>\n",
       "      <td>7.50</td>\n",
       "    </tr>\n",
       "    <tr>\n",
       "      <th>270286</th>\n",
       "      <td>The Craven Cove Murders</td>\n",
       "      <td>3.24</td>\n",
       "      <td>6.00</td>\n",
       "    </tr>\n",
       "    <tr>\n",
       "      <th>115161</th>\n",
       "      <td>Yo-kai Watch Jam: Yo-kai Academy Y - Can a Cat...</td>\n",
       "      <td>6.22</td>\n",
       "      <td>7.00</td>\n",
       "    </tr>\n",
       "    <tr>\n",
       "      <th>338305</th>\n",
       "      <td>Juvenile Court</td>\n",
       "      <td>3.20</td>\n",
       "      <td>4.00</td>\n",
       "    </tr>\n",
       "    <tr>\n",
       "      <th>175555</th>\n",
       "      <td>The Cook</td>\n",
       "      <td>4.65</td>\n",
       "      <td>4.50</td>\n",
       "    </tr>\n",
       "    <tr>\n",
       "      <th>213080</th>\n",
       "      <td>Paper Parachutes</td>\n",
       "      <td>4.79</td>\n",
       "      <td>6.00</td>\n",
       "    </tr>\n",
       "    <tr>\n",
       "      <th>117756</th>\n",
       "      <td>Karger</td>\n",
       "      <td>6.44</td>\n",
       "      <td>5.40</td>\n",
       "    </tr>\n",
       "    <tr>\n",
       "      <th>259187</th>\n",
       "      <td>Lesbian Tutors 3</td>\n",
       "      <td>3.42</td>\n",
       "      <td>8.50</td>\n",
       "    </tr>\n",
       "    <tr>\n",
       "      <th>72313</th>\n",
       "      <td>Beautiful People</td>\n",
       "      <td>7.74</td>\n",
       "      <td>3.80</td>\n",
       "    </tr>\n",
       "    <tr>\n",
       "      <th>307113</th>\n",
       "      <td>The Fencer</td>\n",
       "      <td>3.39</td>\n",
       "      <td>2.00</td>\n",
       "    </tr>\n",
       "    <tr>\n",
       "      <th>218040</th>\n",
       "      <td>El erotismo y la informática</td>\n",
       "      <td>4.59</td>\n",
       "      <td>3.50</td>\n",
       "    </tr>\n",
       "    <tr>\n",
       "      <th>95949</th>\n",
       "      <td>The Dead Sleep Easy</td>\n",
       "      <td>7.01</td>\n",
       "      <td>4.10</td>\n",
       "    </tr>\n",
       "    <tr>\n",
       "      <th>49001</th>\n",
       "      <td>The Lion of the Star</td>\n",
       "      <td>8.13</td>\n",
       "      <td>7.10</td>\n",
       "    </tr>\n",
       "    <tr>\n",
       "      <th>318236</th>\n",
       "      <td>Pastor Jones 2: Lord Guide My 16 Year Old Daug...</td>\n",
       "      <td>3.23</td>\n",
       "      <td>1.00</td>\n",
       "    </tr>\n",
       "  </tbody>\n",
       "</table>\n",
       "</div>"
      ]
     },
     "metadata": {},
     "output_type": "display_data"
    }
   ],
   "execution_count": 52
  },
  {
   "metadata": {
    "ExecuteTime": {
     "end_time": "2025-08-06T10:52:19.266958Z",
     "start_time": "2025-08-06T10:52:19.101566Z"
    }
   },
   "cell_type": "code",
   "source": [
    "import matplotlib.pyplot as plt\n",
    "\n",
    "plt.figure(figsize=(8, 6))\n",
    "plt.scatter(y_test, y_test_pred, alpha=0.3)\n",
    "plt.xlabel(\"Actual Ratings\")\n",
    "plt.ylabel(\"Predicted Ratings\")\n",
    "plt.title(\"Predicted vs Actual Ratings\")\n",
    "plt.plot([0, 10], [0, 10], 'r', lw=3)  # Perfect prediction line\n",
    "plt.show()"
   ],
   "id": "10ccbd77a563a377",
   "outputs": [
    {
     "data": {
      "text/plain": [
       "<Figure size 800x600 with 1 Axes>"
      ],
      "image/png": "[encoded data removed]"
     },
     "metadata": {},
     "output_type": "display_data"
    }
   ],
   "execution_count": 53
  },
  {
   "metadata": {
    "ExecuteTime": {
     "end_time": "2025-08-06T10:52:19.280672Z",
     "start_time": "2025-08-06T10:52:19.278623Z"
    }
   },
   "cell_type": "code",
   "source": "",
   "id": "abfc1b68eed7096e",
   "outputs": [],
   "execution_count": null
  }
 ],
 "metadata": {
  "kernelspec": {
   "display_name": "Python 3 (ipykernel)",
   "language": "python",
   "name": "python3"
  },
  "language_info": {
   "codemirror_mode": {
    "name": "ipython",
    "version": 3
   },
   "file_extension": ".py",
   "mimetype": "text/x-python",
   "name": "python",
   "nbconvert_exporter": "python",
   "pygments_lexer": "ipython3",
   "version": "3.13.3"
  }
 },
 "nbformat": 4,
 "nbformat_minor": 5
}
