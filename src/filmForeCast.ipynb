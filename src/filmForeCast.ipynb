{
 "cells": [
  {
   "cell_type": "code",
   "id": "addadea1-cb3c-4a76-b5bb-12eb1950fe4c",
   "metadata": {
    "ExecuteTime": {
     "end_time": "2025-08-04T14:21:22.454951Z",
     "start_time": "2025-08-04T14:21:16.036536Z"
    }
   },
   "source": [
    "import pandas as pd\n",
    "import ast\n",
    "from sklearn.preprocessing import MinMaxScaler\n",
    "from sklearn.preprocessing import MultiLabelBinarizer\n",
    "df = pd.read_csv(\"../Database/Dataset.csv\")\n",
    "df_raw = df.copy()  # Keep a backup of the original dataset"
   ],
   "outputs": [],
   "execution_count": 42
  },
  {
   "metadata": {
    "ExecuteTime": {
     "end_time": "2025-08-04T14:21:23.374832Z",
     "start_time": "2025-08-04T14:21:23.371884Z"
    }
   },
   "cell_type": "code",
   "source": "df.shape",
   "id": "6b15adb25f1b509d",
   "outputs": [
    {
     "data": {
      "text/plain": [
       "(1266348, 24)"
      ]
     },
     "execution_count": 43,
     "metadata": {},
     "output_type": "execute_result"
    }
   ],
   "execution_count": 43
  },
  {
   "metadata": {
    "ExecuteTime": {
     "end_time": "2025-08-04T14:20:57.456020Z",
     "start_time": "2025-08-04T14:20:57.454033Z"
    }
   },
   "cell_type": "code",
   "source": "print(df.columns.tolist())",
   "id": "de8a9825dc2fba0a",
   "outputs": [
    {
     "name": "stdout",
     "output_type": "stream",
     "text": [
      "['id', 'title', 'vote_average', 'vote_count', 'status', 'release_date', 'revenue', 'runtime', 'adult', 'backdrop_path', 'budget', 'homepage', 'imdb_id', 'original_language', 'original_title', 'overview', 'popularity', 'poster_path', 'tagline', 'genres', 'production_companies', 'production_countries', 'spoken_languages', 'keywords']\n"
     ]
    }
   ],
   "execution_count": 36
  },
  {
   "metadata": {
    "ExecuteTime": {
     "end_time": "2025-08-04T14:21:27.009629Z",
     "start_time": "2025-08-04T14:21:26.471555Z"
    }
   },
   "cell_type": "code",
   "source": [
    "# Initial Data Cleaning - Remove Columns with Too Many Null Values\n",
    "\n",
    "# 1. Threshold setzen ( hier 50 % )\n",
    "# Falls eine Spalte mehr als 50 % Null Values hat, wird sie deleted.\n",
    "# Es bleiben nur Cols, die weniger als 50 % Null Values haben.\n",
    "threshold = len(df) * 0.5\n",
    "\n",
    "# Zähle die Null values pro Spalte\n",
    "null_counts = df.isnull().sum()\n",
    "\n",
    "\n",
    "# 2. Spalten ermitteln, bei denen null_counts > threshold\n",
    "cols_to_drop = null_counts[null_counts > threshold].index.tolist()\n",
    "\n",
    "# 3. Spalten löschen\n",
    "df = df.drop(columns=cols_to_drop)\n",
    "\n",
    "print(\"Original shape:\", df_raw.shape)\n",
    "print(\"Cleaned shape:\", df.shape)\n",
    "print(\"----------------------------------------\\n\")\n",
    "\n",
    "# To Checken was gedropped wurde:\n",
    "# dropped_cols als Set Difference\n",
    "dropped_cols = set(df_raw.columns) - set(df.columns)\n",
    "print(\"Dropped columns:\", dropped_cols)\n",
    "print(\"----------------------------------------\")\n",
    "print(\"----------------------------------------\")\n",
    "print(\"----------------------------------------\")\n",
    "print(\"Remaining columns:\", df.columns.tolist())"
   ],
   "id": "291ee682c778f75b",
   "outputs": [
    {
     "name": "stdout",
     "output_type": "stream",
     "text": [
      "Original shape: (1266348, 24)\n",
      "Cleaned shape: (1266348, 19)\n",
      "----------------------------------------\n",
      "\n",
      "Dropped columns: {'production_companies', 'backdrop_path', 'keywords', 'homepage', 'tagline'}\n",
      "----------------------------------------\n",
      "----------------------------------------\n",
      "----------------------------------------\n",
      "Remaining columns: ['id', 'title', 'vote_average', 'vote_count', 'status', 'release_date', 'revenue', 'runtime', 'adult', 'budget', 'imdb_id', 'original_language', 'original_title', 'overview', 'popularity', 'poster_path', 'genres', 'production_countries', 'spoken_languages']\n"
     ]
    }
   ],
   "execution_count": 44
  },
  {
   "metadata": {
    "ExecuteTime": {
     "end_time": "2025-08-04T14:21:29.221113Z",
     "start_time": "2025-08-04T14:21:29.182844Z"
    }
   },
   "cell_type": "code",
   "source": [
    "# Second Data Cleaning\n",
    "# Wir Droppen die Spalten, die wir nicht brauchen\n",
    "\n",
    "cols_to_drop_for_model = [\n",
    "    'id',\n",
    "    'title',\n",
    "    'original_title',\n",
    "    'imdb_id',\n",
    "    'poster_path',\n",
    "    'overview',\n",
    "    'vote_average',\n",
    "    'production_countries', # already using original language and genres\n",
    "    'spoken_languages' # already using original language\n",
    "]\n",
    "\n",
    "features = df.drop(columns=cols_to_drop_for_model)\n",
    "target = df['vote_average']\n",
    "\n",
    "print(\"Original DataFrame:\", df.shape)\n",
    "print(\"Features DataFrame:\", features.shape)\n",
    "print(\"-------------------------------------------\")\n",
    "print(\"The Features we are going to be using:\", features.columns.tolist())\n",
    "\n"
   ],
   "id": "1c28be1c47ae3acd",
   "outputs": [
    {
     "name": "stdout",
     "output_type": "stream",
     "text": [
      "Original DataFrame: (1266348, 19)\n",
      "Features DataFrame: (1266348, 10)\n",
      "-------------------------------------------\n",
      "The Features we are going to be using: ['vote_count', 'status', 'release_date', 'revenue', 'runtime', 'adult', 'budget', 'original_language', 'popularity', 'genres']\n"
     ]
    }
   ],
   "execution_count": 45
  },
  {
   "metadata": {
    "ExecuteTime": {
     "end_time": "2025-08-04T14:21:32.369844Z",
     "start_time": "2025-08-04T14:21:32.291035Z"
    }
   },
   "cell_type": "code",
   "source": [
    "# check values in different columns\n",
    "\n",
    "#print(df['status'].value_counts(dropna=False))\n",
    "#print(df['adult'].value_counts(dropna=False))\n",
    "#print(df['original_language'].value_counts())\n",
    "df['genres'].describe()"
   ],
   "id": "b22225652f343eab",
   "outputs": [
    {
     "data": {
      "text/plain": [
       "count          733267\n",
       "unique          14126\n",
       "top       Documentary\n",
       "freq           147108\n",
       "Name: genres, dtype: object"
      ]
     },
     "execution_count": 46,
     "metadata": {},
     "output_type": "execute_result"
    }
   ],
   "execution_count": 46
  },
  {
   "metadata": {
    "ExecuteTime": {
     "end_time": "2025-08-04T14:21:41.533238Z",
     "start_time": "2025-08-04T14:21:35.769858Z"
    }
   },
   "cell_type": "code",
   "source": [
    "# https://stackoverflow.com/questions/58033652/separating-categories-within-one-column-in-my-dataframe?utm_source=chatgpt.com\n",
    "\n",
    "def extract_genres(genre_str):\n",
    "    try:\n",
    "        genres = ast.literal_eval(genre_str)\n",
    "        return [g['name'] for g in genres]\n",
    "    except:\n",
    "        return []\n",
    "\n",
    "df['genre_list'] = df['genres'].apply(extract_genres)\n",
    "\n",
    "\n",
    "\n",
    "mlb = MultiLabelBinarizer()\n",
    "df_genres = pd.DataFrame(\n",
    "    mlb.fit_transform(df['genre_list']),\n",
    "    columns=[f\"has_{g}\" for g in mlb.classes_],\n",
    "    index=df.index\n",
    ")\n",
    "df = pd.concat([df, df_genres], axis=1)"
   ],
   "id": "5c014393960d5114",
   "outputs": [],
   "execution_count": 47
  },
  {
   "metadata": {
    "ExecuteTime": {
     "end_time": "2025-08-04T14:21:44.834788Z",
     "start_time": "2025-08-04T14:21:43.962468Z"
    }
   },
   "cell_type": "code",
   "source": [
    "# Feature Engineering\n",
    "scaler = MinMaxScaler()\n",
    "\n",
    "\n",
    "# Use One Hot Encoding for the STATUS\n",
    "df['status_released'] = (df['status'] == 'Released').astype(int)\n",
    "# By Far the majority of movies are Released -> Binary Choice\n",
    "# 1 : Released, 0 : Not Released\n",
    "\n",
    "\n",
    "# Convert 'release_date' to datetime and extract the YEAR\n",
    "df['release_date'] = pd.to_datetime(df['release_date'], errors='coerce')\n",
    "# coerce -> If parsing fails, set the value to NaT (Not a Time)\n",
    "df['release_year'] = df['release_date'].dt.year\n",
    "\n",
    "# Normalize BUDGET and REVENUE\n",
    "# Fill NaN values with 0 for budget and revenue\n",
    "df['budget'] = df['budget'].fillna(0)\n",
    "df['revenue'] = df['revenue'].fillna(0)\n",
    "\n",
    "# Scale budget and revenue between 0 and 1\n",
    "df[['budget_scaled', 'revenue_scaled']] = scaler.fit_transform(df[['budget', 'revenue']])\n",
    "\n",
    "\n",
    "# Convert RUNTIME to numeric, fill NaN with median\n",
    "df['runtime'] = df['runtime'].fillna(df['runtime'].median())\n",
    "df[['runtime_scaled']] = scaler.fit_transform(df[['runtime']])\n",
    "\n",
    "\n",
    "# Convert ADULT to binary (1 for True, 0 for False)\n",
    "# actually is statistically releveant, as almost 10 % are adult movies\n",
    "df['adult'] = df['adult'].astype(bool).astype(int)\n",
    "\n",
    "\n",
    "# One Hot Encoding for ORIGINAL_LANGUAGE\n",
    "df = pd.get_dummies(df, columns=['original_language'], prefix='lang', drop_first=True)\n",
    "\n",
    "\n",
    "# Min Max Scaling for POPULARITY\n",
    "df[['popularity_scaled']] = scaler.fit_transform(df[['popularity']])\n",
    "\n",
    "\n",
    "# Extracting features for genres with MultiLabelBinarizer in function above\n",
    "genre_features = [col for col in df.columns if col.startswith('has_')]\n",
    "\n",
    "# Final list of features\n",
    "feature_cols = [\n",
    "    'vote_count',\n",
    "    'status_released',\n",
    "    'release_year',\n",
    "    'budget_scaled',\n",
    "    'revenue_scaled',\n",
    "    'runtime_scaled',\n",
    "    'adult',\n",
    "    'popularity',\n",
    "    #'spoken_languages' — handled separately\n",
    "] + genre_features + [col for col in df.columns if col.startswith('lang_')]\n",
    "\n",
    "\n",
    "features = df[feature_cols]"
   ],
   "id": "b1d8e065-73e0-4d1f-8e13-30f522858357",
   "outputs": [],
   "execution_count": 48
  },
  {
   "metadata": {
    "ExecuteTime": {
     "end_time": "2025-08-04T14:21:05.127418Z",
     "start_time": "2025-08-04T14:21:05.125932Z"
    }
   },
   "cell_type": "code",
   "source": "",
   "id": "676b4bd04a02f89f",
   "outputs": [],
   "execution_count": null
  }
 ],
 "metadata": {
  "kernelspec": {
   "display_name": "Python 3 (ipykernel)",
   "language": "python",
   "name": "python3"
  },
  "language_info": {
   "codemirror_mode": {
    "name": "ipython",
    "version": 3
   },
   "file_extension": ".py",
   "mimetype": "text/x-python",
   "name": "python",
   "nbconvert_exporter": "python",
   "pygments_lexer": "ipython3",
   "version": "3.13.3"
  }
 },
 "nbformat": 4,
 "nbformat_minor": 5
}
