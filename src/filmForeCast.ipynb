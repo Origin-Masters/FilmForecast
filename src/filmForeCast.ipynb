{
 "cells": [
  {
   "metadata": {},
   "cell_type": "markdown",
   "source": [
    "# FilmForecast\n",
    "## Project aiming at Predicting Movie Ratings using Methods of Machine Learning\n",
    "\n",
    "### Topic : Predict the Rating of Movies\n",
    "\n",
    "#### by:\n",
    "#### Valentin Straßer (Matrikelnummer: 12345678),\n",
    "#### Mathusan Saravanapavan (Matrikelnummer: 98765432),\n",
    "#### Michał Roziel (Matrikelnummer: 11223344)"
   ],
   "id": "1f1e473026305f19"
  },
  {
   "metadata": {},
   "cell_type": "markdown",
   "source": "#### The goal in this project is to predict the rating (vote_average) of movies based on other features (e.g., their release date and box-office revenue).\n",
   "id": "31fe7d1daf3bb31c"
  },
  {
   "metadata": {},
   "cell_type": "markdown",
   "source": [
    "#### Data :\n",
    "\n",
    "The TMDB Movies Dataset consists of information about 1 million movies scraped from IMDB. The dataset is available for download from Moodle. More information about the dataset can be found here:\n",
    "\n",
    "https://www.kaggle.com/datasets/asaniczka/tmdb-movies-dataset-2023-930k-movies/data\n"
   ],
   "id": "3cdc33cbe64b4c9a"
  },
  {
   "metadata": {},
   "cell_type": "markdown",
   "source": [
    "#### Goals :\n",
    "\n",
    "Employing the methods that we covered in the lecture, you should come up with your own solution to the problem and evaluate it. In order to obtain bonus points, you have to submit your solution as a single Jupyter Notebook by August 30, 2025. Your Jupyter notebook should cover the following aspects:\n",
    "\n",
    "some analysis of the dataset (e.g., statistics regarding its size or the distribution of individual features)\n",
    "details on any preprocessing that you applied to the dataset (e.g., to clean it up by removing null values)\n",
    "a detailed description of your approach (e.g., which method to do you use, which features do you consider)\n",
    "a discussion of the experimental results (e.g., what is the performance that your achieves, how does it compare to other methods)\n"
   ],
   "id": "708710be23c9f75"
  },
  {
   "metadata": {
    "ExecuteTime": {
     "end_time": "2025-08-27T10:08:12.457148Z",
     "start_time": "2025-08-27T10:08:12.455137Z"
    }
   },
   "cell_type": "code",
   "source": "",
   "id": "6bb7f8b13271d478",
   "outputs": [],
   "execution_count": null
  },
  {
   "metadata": {
    "ExecuteTime": {
     "end_time": "2025-08-27T10:08:18.528034Z",
     "start_time": "2025-08-27T10:08:12.471158Z"
    }
   },
   "cell_type": "code",
   "source": [
    "import pandas as pd\n",
    "import ast\n",
    "import numpy as np\n",
    "from sklearn.preprocessing import MinMaxScaler\n",
    "\n",
    "from sklearn.preprocessing import MultiLabelBinarizer, PolynomialFeatures\n",
    "\n",
    "from sklearn.model_selection import train_test_split\n",
    "\n",
    "from sklearn.linear_model import LinearRegression, Ridge\n",
    "from sklearn.metrics import mean_squared_error, r2_score\n",
    "from sklearn.ensemble import RandomForestRegressor\n",
    "\n",
    "df = pd.read_csv(\"../Database/Dataset.csv\")\n",
    "df_raw = df.copy()  # Keep a backup of the original dataset"
   ],
   "id": "addadea1-cb3c-4a76-b5bb-12eb1950fe4c",
   "outputs": [],
   "execution_count": 34
  },
  {
   "metadata": {
    "ExecuteTime": {
     "end_time": "2025-08-27T10:08:18.544518Z",
     "start_time": "2025-08-27T10:08:18.541564Z"
    }
   },
   "cell_type": "code",
   "source": "df.shape",
   "id": "6b15adb25f1b509d",
   "outputs": [
    {
     "data": {
      "text/plain": [
       "(1266348, 24)"
      ]
     },
     "execution_count": 35,
     "metadata": {},
     "output_type": "execute_result"
    }
   ],
   "execution_count": 35
  },
  {
   "metadata": {
    "ExecuteTime": {
     "end_time": "2025-08-27T10:08:18.560293Z",
     "start_time": "2025-08-27T10:08:18.558093Z"
    }
   },
   "cell_type": "code",
   "source": "print(df.columns.tolist())",
   "id": "de8a9825dc2fba0a",
   "outputs": [
    {
     "name": "stdout",
     "output_type": "stream",
     "text": [
      "['id', 'title', 'vote_average', 'vote_count', 'status', 'release_date', 'revenue', 'runtime', 'adult', 'backdrop_path', 'budget', 'homepage', 'imdb_id', 'original_language', 'original_title', 'overview', 'popularity', 'poster_path', 'tagline', 'genres', 'production_companies', 'production_countries', 'spoken_languages', 'keywords']\n"
     ]
    }
   ],
   "execution_count": 36
  },
  {
   "metadata": {},
   "cell_type": "markdown",
   "source": [
    "### 1. Analysis of the Dataset\n",
    "\n",
    "The data frame, from iMDB, initially, contains information on 1266865 movies.\n",
    "\n",
    "#### Initial Look at the DB :\n",
    "\n",
    "- Size : The original DB has the dimensions : `(1266865, 24)`\n",
    "\n",
    "- Null Values : With a Threshold of 50 % we identify the columns that contain more than half null values.\n",
    "\n",
    "- We decided to Drop those as they would not provide reliable features for the model.\n",
    "- After this step, the dataset was reduced to 19 columns.\n",
    "- The Ones being Dropped are : ``` 'keywords', 'homepage', 'backdrop_path', 'production_companies', 'tagline' ```\n",
    "\n",
    "#### Feature Distribution :\n",
    "- The target variable, `vote_average`, is a continuous variable, which lets us identify this problem as a regression problem.\n",
    "- Some Features have skewness and need to be Scaled / refactored\n",
    "- Some cols like `genres` are in a JSON-like format and need to be parsed to be usable as features.\n",
    "- Some features like `original_language` can be one-hot encoded.\n"
   ],
   "id": "dae76690f877f8ee"
  },
  {
   "metadata": {
    "ExecuteTime": {
     "end_time": "2025-08-27T10:08:19.087291Z",
     "start_time": "2025-08-27T10:08:18.573396Z"
    }
   },
   "cell_type": "code",
   "source": [
    "# Initial Data Cleaning - Remove Columns with Too Many Null Values\n",
    "\n",
    "# 1. Set a threshold for null values (50%).\n",
    "# Columns with more null values than the threshold will be dropped.\n",
    "threshold = len(df) * 0.5\n",
    "\n",
    "# Count null values for each column.\n",
    "null_counts = df.isnull().sum()\n",
    "\n",
    "\n",
    "# 2. Identify columns where the null count exceeds the threshold.\n",
    "cols_to_drop = null_counts[null_counts > threshold].index.tolist()\n",
    "\n",
    "# 3. Drop the identified columns.\n",
    "df = df.drop(columns=cols_to_drop)\n",
    "\n",
    "print(\"Original shape:\", df_raw.shape)\n",
    "print(\"Cleaned shape:\", df.shape)\n",
    "print(\"----------------------------------------\\n\")\n",
    "\n",
    "# Check which columns were dropped.\n",
    "# Use set difference to find the dropped columns.\n",
    "dropped_cols = set(df_raw.columns) - set(df.columns)\n",
    "print(\"Dropped columns:\", dropped_cols)\n",
    "print(\"----------------------------------------\")\n",
    "print(\"----------------------------------------\")\n",
    "print(\"----------------------------------------\")\n",
    "print(\"Remaining columns:\", df.columns.tolist())"
   ],
   "id": "291ee682c778f75b",
   "outputs": [
    {
     "name": "stdout",
     "output_type": "stream",
     "text": [
      "Original shape: (1266348, 24)\n",
      "Cleaned shape: (1266348, 19)\n",
      "----------------------------------------\n",
      "\n",
      "Dropped columns: {'production_companies', 'keywords', 'tagline', 'homepage', 'backdrop_path'}\n",
      "----------------------------------------\n",
      "----------------------------------------\n",
      "----------------------------------------\n",
      "Remaining columns: ['id', 'title', 'vote_average', 'vote_count', 'status', 'release_date', 'revenue', 'runtime', 'adult', 'budget', 'imdb_id', 'original_language', 'original_title', 'overview', 'popularity', 'poster_path', 'genres', 'production_countries', 'spoken_languages']\n"
     ]
    }
   ],
   "execution_count": 37
  },
  {
   "metadata": {
    "ExecuteTime": {
     "end_time": "2025-08-27T10:08:19.146786Z",
     "start_time": "2025-08-27T10:08:19.101886Z"
    }
   },
   "cell_type": "code",
   "source": [
    "# Second Data Cleaning\n",
    "# Drop columns that are not needed for the model, we cannot predict the rating from cols like title, id, etc. .\n",
    "\n",
    "#------------------------------\n",
    "cols_to_drop_for_model = [\n",
    "    'id',\n",
    "    'title',\n",
    "    'original_title',\n",
    "    'imdb_id',\n",
    "    'poster_path',\n",
    "    'overview',\n",
    "    'vote_average',\n",
    "    'production_countries', # already using original language and genres\n",
    "    'spoken_languages' # already using original language\n",
    "]\n",
    "#------------------------------\n",
    "\n",
    "#------------------------------\n",
    "features = df.drop(columns=cols_to_drop_for_model)\n",
    "target = df['vote_average']\n",
    "#------------------------------\n",
    "\n",
    "#------------------------------\n",
    "print(\"Original DataFrame:\", df.shape)\n",
    "print(\"Features DataFrame:\", features.shape)\n",
    "print(\"-------------------------------------------\")\n",
    "print(\"The Features we are going to be using:\", features.columns.tolist())\n",
    "#------------------------------\n"
   ],
   "id": "1c28be1c47ae3acd",
   "outputs": [
    {
     "name": "stdout",
     "output_type": "stream",
     "text": [
      "Original DataFrame: (1266348, 19)\n",
      "Features DataFrame: (1266348, 10)\n",
      "-------------------------------------------\n",
      "The Features we are going to be using: ['vote_count', 'status', 'release_date', 'revenue', 'runtime', 'adult', 'budget', 'original_language', 'popularity', 'genres']\n"
     ]
    }
   ],
   "execution_count": 38
  },
  {
   "metadata": {
    "ExecuteTime": {
     "end_time": "2025-08-27T10:08:19.236527Z",
     "start_time": "2025-08-27T10:08:19.160814Z"
    }
   },
   "cell_type": "code",
   "source": [
    "# check values in different columns\n",
    "\n",
    "#print(df['status'].value_counts(dropna=False))\n",
    "#print(df['adult'].value_counts(dropna=False))\n",
    "#print(df['original_language'].value_counts())\n",
    "df['genres'].describe()"
   ],
   "id": "b22225652f343eab",
   "outputs": [
    {
     "data": {
      "text/plain": [
       "count          733267\n",
       "unique          14126\n",
       "top       Documentary\n",
       "freq           147108\n",
       "Name: genres, dtype: object"
      ]
     },
     "execution_count": 39,
     "metadata": {},
     "output_type": "execute_result"
    }
   ],
   "execution_count": 39
  },
  {
   "metadata": {},
   "cell_type": "markdown",
   "source": [
    "### 2. Preprocessing and Feature Engineering\n",
    "\n",
    "Before training out model we are going to Feature Engineer our data Frame\n",
    "\n",
    "#### Feature Selection :\n",
    "- Columns not relevant for prediction  were dropped to create the feature set. The target variable `vote_average` was separated.\n",
    "\n",
    "- Handling JSON-like Columns (`genres`) :\n",
    "- We extracted the genre name with a `has_` prefix\n",
    "\n",
    "\n",
    "#### Feature Transformation and Scaling :\n",
    "\n",
    "- Logarithmic Scaling : because of broad distribution and skewness of  `vote_count`, we applied a logarithmic transformation.\n",
    "\n",
    "#### Scaling :\n",
    "- `MinMaxScaler` was used to scale `budget`, `revenue`\n",
    "- Normatlization was applied to `budget`, `revenue`\n",
    "\n",
    "#### Missing values :\n",
    "- In `runtime` were imputed with the median,\n",
    "- While `budget` and `revenue` NaNs were filled with 0.\n",
    "- Date Feature Extraction : The year was extracted from the `release_date` column to create a `release_year` feature\n",
    "\n",
    "#### Categorical Feature Encoding :\n",
    "- Status : The `status` column was converted into a binary feature `status_released`\n",
    "- Original Language : The `original_language` column was converted using one-hot encoding (`pd.get_dummies`).\n",
    "- Adult : The boolean `adult` column was converted to an binary choice (0 or 1).\n",
    "- Final Feature Set : The final set of features created by engineering. Any remaining `NaN` values  were filled with 0."
   ],
   "id": "2854a630bf403037"
  },
  {
   "metadata": {
    "ExecuteTime": {
     "end_time": "2025-08-27T10:08:19.457451Z",
     "start_time": "2025-08-27T10:08:19.264832Z"
    }
   },
   "cell_type": "code",
   "source": [
    "# Split Data into Training, Validation, and Test Sets\n",
    "# We will use 70% for training, 20% for validation, and 10% for testing.\n",
    "\n",
    "#https://scikit-learn.org/stable/modules/generated/sklearn.model_selection.train_test_split.html\n",
    "\n",
    "\n",
    "# Splitting the Data into train and temporary sets (70% train, 30% temp).\n",
    "# Using train_test_split from SCIKIT LEARN\n",
    "X_train, X_temp, y_train, y_temp = train_test_split(\n",
    "    # X_train : features\n",
    "    # X_temp : also features, 30 percent of the data\n",
    "    # y_train : target\n",
    "    # y_temp : still 30 percent of the data, but not features -> target values\n",
    "    features, target,\n",
    "    test_size=0.30,\n",
    "    random_state=42 )\n",
    "\n",
    "# Splitting the Temp set into validation and test sets (50% of temp each)\n",
    "X_val, X_test, y_val, y_test = train_test_split(\n",
    "    X_temp, y_temp,\n",
    "    test_size=1/3,\n",
    "    random_state=42 )\n",
    "\n",
    "# Display the shapes of the resulting splits to confirm.\n",
    "print(\"Training features shape:\", X_train.shape)\n",
    "print(\"Validation features shape:\", X_val.shape)\n",
    "print(\"Test features shape:\", X_test.shape)\n",
    "print(\"---\")\n",
    "print(\"Training target shape:\", y_train.shape)\n",
    "print(\"Validation target shape:\", y_val.shape)\n",
    "print(\"Test target shape:\", y_test.shape)\n",
    "\n"
   ],
   "id": "73e95fd983f614e1",
   "outputs": [
    {
     "name": "stdout",
     "output_type": "stream",
     "text": [
      "Training features shape: (886443, 10)\n",
      "Validation features shape: (253270, 10)\n",
      "Test features shape: (126635, 10)\n",
      "---\n",
      "Training target shape: (886443,)\n",
      "Validation target shape: (253270,)\n",
      "Test target shape: (126635,)\n"
     ]
    }
   ],
   "execution_count": 40
  },
  {
   "metadata": {
    "ExecuteTime": {
     "end_time": "2025-08-27T10:08:19.481562Z",
     "start_time": "2025-08-27T10:08:19.475771Z"
    }
   },
   "cell_type": "code",
   "source": [
    "scaler_runtime = MinMaxScaler()\n",
    "scaler_br = MinMaxScaler()\n",
    "scaler_pop = MinMaxScaler()\n",
    "\n",
    "def feature_engineer(X_train, X_val, X_test):\n",
    "    \"\"\"\n",
    "    Applies feature engineering to train, validation, and test sets.\n",
    "    Fits scalers and encoders on the training data only, then transforms all sets.\n",
    "    \"\"\"\n",
    "    # Create copies to avoid modifying the original DataFrames\n",
    "    x_train_eng = X_train.copy()\n",
    "    x_val_eng = X_val.copy()\n",
    "    x_test_eng = X_test.copy()\n",
    "\n",
    "    # --- Transformations that don't require fitting ---\n",
    "    for df_split in [x_train_eng, x_val_eng, x_test_eng]:\n",
    "        df_split['vote_count_log'] = np.log1p(df_split['vote_count'])\n",
    "        df_split['status_released'] = (df_split['status'] == 'Released').astype(int)\n",
    "        df_split['release_date'] = pd.to_datetime(df_split['release_date'], errors='coerce')\n",
    "        df_split['release_year'] = df_split['release_date'].dt.year\n",
    "        df_split['release_year'] = df_split['release_year'].clip(upper=2025, lower=1900)\n",
    "        df_split['adult'] = df_split['adult'].astype(bool).astype(int)\n",
    "        genre_dummies = df_split['genres'].fillna('').str.get_dummies(sep=', ').add_prefix('has_')\n",
    "        for col in genre_dummies.columns:\n",
    "            df_split[col] = genre_dummies[col]\n",
    "\n",
    "    # --- Fit on training data, then transform all sets ---\n",
    "\n",
    "    # Impute 'runtime'\n",
    "    runtime_median = x_train_eng['runtime'].median()\n",
    "    for df_split in [x_train_eng, x_val_eng, x_test_eng]:\n",
    "        # FIX: Avoid inplace=True\n",
    "        df_split['runtime'] = df_split['runtime'].fillna(runtime_median)\n",
    "\n",
    "    # Scale 'runtime'\n",
    "    x_train_eng['runtime_scaled'] = scaler_runtime.fit_transform(x_train_eng[['runtime']])\n",
    "    x_val_eng['runtime_scaled'] = scaler_runtime.transform(x_val_eng[['runtime']])\n",
    "    x_test_eng['runtime_scaled'] = scaler_runtime.transform(x_test_eng[['runtime']])\n",
    "\n",
    "    # Impute 'budget' and 'revenue'\n",
    "    for df_split in [x_train_eng, x_val_eng, x_test_eng]:\n",
    "        # FIX: Avoid inplace=True\n",
    "        df_split['budget'] = df_split['budget'].fillna(0)\n",
    "        df_split['revenue'] = df_split['revenue'].fillna(0)\n",
    "\n",
    "    # Scale 'budget' and 'revenue'\n",
    "    x_train_eng[['budget_scaled', 'revenue_scaled']] = scaler_br.fit_transform(x_train_eng[['budget', 'revenue']])\n",
    "    x_val_eng[['budget_scaled', 'revenue_scaled']] = scaler_br.transform(x_val_eng[['budget', 'revenue']])\n",
    "    x_test_eng[['budget_scaled', 'revenue_scaled']] = scaler_br.transform(x_test_eng[['budget', 'revenue']])\n",
    "\n",
    "    # Scale 'popularity'\n",
    "    x_train_eng['popularity_scaled'] = scaler_pop.fit_transform(x_train_eng[['popularity']])\n",
    "    x_val_eng['popularity_scaled'] = scaler_pop.transform(x_val_eng[['popularity']])\n",
    "    x_test_eng['popularity_scaled'] = scaler_pop.transform(x_test_eng[['popularity']])\n",
    "\n",
    "    # One-hot encode 'original_language'\n",
    "    x_train_eng = pd.get_dummies(x_train_eng, columns=['original_language'], prefix='lang', drop_first=True)\n",
    "    x_val_eng = pd.get_dummies(x_val_eng, columns=['original_language'], prefix='lang', drop_first=True)\n",
    "    x_test_eng = pd.get_dummies(x_test_eng, columns=['original_language'], prefix='lang', drop_first=True)\n",
    "\n",
    "    # --- FIX: Align columns to ensure consistency ---\n",
    "    train_cols = x_train_eng.columns\n",
    "    x_val_eng = x_val_eng.reindex(columns=train_cols, fill_value=0)\n",
    "    x_test_eng = x_test_eng.reindex(columns=train_cols, fill_value=0)\n",
    "\n",
    "    # --- Define final feature columns ---\n",
    "    genre_features = [col for col in x_train_eng.columns if col.startswith('has_')]\n",
    "    lang_features = [col for col in x_train_eng.columns if col.startswith('lang_')]\n",
    "\n",
    "    feature_cols = [\n",
    "        'vote_count_log', 'status_released', 'release_year',\n",
    "        'budget_scaled', 'revenue_scaled', 'runtime_scaled',\n",
    "        'adult', 'popularity_scaled'\n",
    "    ] + genre_features + lang_features\n",
    "\n",
    "    # Select and fill any remaining NaNs in the final feature sets\n",
    "    x_train_final = x_train_eng[feature_cols].fillna(0)\n",
    "    x_val_final = x_val_eng[feature_cols].fillna(0)\n",
    "    x_test_final = x_test_eng[feature_cols].fillna(0)\n",
    "\n",
    "    return x_train_final, x_val_final, x_test_final"
   ],
   "id": "b1d8e065-73e0-4d1f-8e13-30f522858357",
   "outputs": [],
   "execution_count": 41
  },
  {
   "metadata": {
    "ExecuteTime": {
     "end_time": "2025-08-27T10:08:25.869225Z",
     "start_time": "2025-08-27T10:08:19.504079Z"
    }
   },
   "cell_type": "code",
   "source": [
    "# Apply the function to your data splits\n",
    "X_train, X_val, X_test = feature_engineer(X_train, X_val, X_test)\n",
    "\n",
    "# Display the shape of the processed data to confirm\n",
    "print(\"Processed training features shape:\", X_train.shape)\n",
    "print(\"Processed validation features shape:\", X_val.shape)\n",
    "print(\"Processed test features shape:\", X_test.shape)"
   ],
   "id": "c65e20763bcb436a",
   "outputs": [
    {
     "name": "stdout",
     "output_type": "stream",
     "text": [
      "Processed training features shape: (886443, 198)\n",
      "Processed validation features shape: (253270, 198)\n",
      "Processed test features shape: (126635, 198)\n"
     ]
    }
   ],
   "execution_count": 42
  },
  {
   "metadata": {},
   "cell_type": "markdown",
   "source": [
    "### 3. Possible modeling Scenarios\n",
    "\n",
    "To predict the movie ratings, we tried out several regression models. The data was split into training (70%), validation (20%), and test (10%) sets to train the models and evaluate their performance on unseen data, which helps in preventing overfitting.\n",
    "\n",
    "The following models were considered:\n",
    "1.  **Linear Regression**: A simple baseline model to establish initial performance.\n",
    "2.  **Ridge Regression**: An extension of linear regression that includes L2 regularization to reduce model complexity and prevent overfitting.\n",
    "3.  **Polynomial Regression**: This approach transforms features into polynomial terms to capture non-linear relationships between the features and the movie rating.\n",
    "\n"
   ],
   "id": "af9c5b80170ff789"
  },
  {
   "metadata": {
    "ExecuteTime": {
     "end_time": "2025-08-27T10:08:25.889076Z",
     "start_time": "2025-08-27T10:08:25.886313Z"
    }
   },
   "cell_type": "code",
   "source": [
    "print(\"Training set shape:\", X_train.shape)\n",
    "print(\"Validation set shape:\", X_val.shape)\n",
    "print(\"Test set shape:\", X_test.shape)\n",
    "print(\"Training target shape:\", y_train.shape)\n",
    "print(\"Validation target shape:\", y_val.shape)\n",
    "print(\"Test target shape:\", y_test.shape)\n"
   ],
   "id": "676b4bd04a02f89f",
   "outputs": [
    {
     "name": "stdout",
     "output_type": "stream",
     "text": [
      "Training set shape: (886443, 198)\n",
      "Validation set shape: (253270, 198)\n",
      "Test set shape: (126635, 198)\n",
      "Training target shape: (886443,)\n",
      "Validation target shape: (253270,)\n",
      "Test target shape: (126635,)\n"
     ]
    }
   ],
   "execution_count": 43
  },
  {
   "metadata": {
    "ExecuteTime": {
     "end_time": "2025-08-27T10:08:26.027591Z",
     "start_time": "2025-08-27T10:08:25.918516Z"
    }
   },
   "cell_type": "code",
   "source": [
    "# Check for object (non-numeric) dtypes\n",
    "print(features.dtypes[features.dtypes == 'object'])\n",
    "\n",
    "# Check for missing values\n",
    "print(\"NaNs in features:\", features.isna().sum().sum())\n",
    "print(\"NaNs in target:\", target.isna().sum())"
   ],
   "id": "9e5ae133caafb087",
   "outputs": [
    {
     "name": "stdout",
     "output_type": "stream",
     "text": [
      "status               object\n",
      "release_date         object\n",
      "original_language    object\n",
      "genres               object\n",
      "dtype: object\n",
      "NaNs in features: 777205\n",
      "NaNs in target: 0\n"
     ]
    }
   ],
   "execution_count": 44
  },
  {
   "metadata": {
    "ExecuteTime": {
     "end_time": "2025-08-27T10:08:26.032350Z",
     "start_time": "2025-08-27T10:08:26.030555Z"
    }
   },
   "cell_type": "code",
   "source": [
    "# FUNCTION FOR LINEAR REGRESSION\n",
    "#https://scikit-learn.org/stable/modules/generated/sklearn.linear_model.LinearRegression.html\n",
    "def execute_linear_regression():\n",
    "# Initialize model\n",
    "    model = LinearRegression()\n",
    "\n",
    "    # Train model\n",
    "    model.fit(X_train, y_train)\n",
    "\n",
    "    # Predictions\n",
    "    y_val_pred = model.predict(X_val)\n",
    "    y_test_pred = model.predict(X_test)\n",
    "\n",
    "    # Return predictions and model\n",
    "    return model, y_val_pred, y_test_pred"
   ],
   "id": "db4e03173508b0e3",
   "outputs": [],
   "execution_count": 45
  },
  {
   "metadata": {
    "ExecuteTime": {
     "end_time": "2025-08-27T10:08:26.061995Z",
     "start_time": "2025-08-27T10:08:26.060151Z"
    }
   },
   "cell_type": "code",
   "source": [
    "# FUNCTION FOR RIDGE REGRESSION\n",
    "\n",
    "def execute_ridge_regression():\n",
    "\n",
    "\n",
    "# Initialize Ridge model.\n",
    "# alpha: Regularization strength (default = 1.0).\n",
    "    model = Ridge()\n",
    "\n",
    "# Train the model.\n",
    "    model.fit(X_train, y_train)\n",
    "\n",
    "# Predictions.\n",
    "    y_val_pred = model.predict(X_val)\n",
    "    y_test_pred = model.predict(X_test)\n",
    "\n",
    "    return y_val_pred, y_test_pred"
   ],
   "id": "87bad3e42b63a030",
   "outputs": [],
   "execution_count": 46
  },
  {
   "metadata": {
    "ExecuteTime": {
     "end_time": "2025-08-27T10:08:26.067510Z",
     "start_time": "2025-08-27T10:08:26.065013Z"
    }
   },
   "cell_type": "code",
   "source": [
    "# FUNCTION FOR POLYNOMIAL REGRESSION\n",
    "def execute_polynomial_regression():\n",
    "\n",
    "# Initialize model.\n",
    "    model = LinearRegression()\n",
    "\n",
    "# Select numeric features for polynomial transform; not too many to avoid heavy workload.\n",
    "    numeric_features = ['vote_count_log', 'budget_scaled', 'revenue_scaled', 'runtime_scaled', 'popularity_scaled']\n",
    "\n",
    "# Create subsets for training, validation, and testing.\n",
    "    x_train_num = X_train[numeric_features]\n",
    "    x_val_num = X_val[numeric_features]\n",
    "    x_test_num = X_test[numeric_features]\n",
    "\n",
    "\n",
    "# Create Polynomial Features of degree 2.\n",
    "    poly = PolynomialFeatures(degree=2, include_bias=False)\n",
    "\n",
    "# Here, we create polynomial features for the numeric columns.\n",
    "# .to_numpy() is not needed here as fit_transform handles it.\n",
    "    x_train_poly = poly.fit_transform(x_train_num)\n",
    "    x_val_poly = poly.transform(x_val_num)\n",
    "    x_test_poly = poly.transform(x_test_num)\n",
    "\n",
    "# Use set difference to obtain features that are not numeric.\n",
    "    x_train_other = X_train.drop(columns=numeric_features)\n",
    "    x_val_other = X_val.drop(columns=numeric_features)\n",
    "    x_test_other = X_test.drop(columns=numeric_features)\n",
    "\n",
    "# Combine polynomial numeric features with the rest.\n",
    "# hstack combines the arrays horizontally.\n",
    "# here, .to_numpy() is needed to convert DataFrames to NumPy arrays.\n",
    "    x_train_final = np.hstack([x_train_poly, x_train_other.to_numpy()])\n",
    "    x_val_final = np.hstack([x_val_poly, x_val_other.to_numpy()])\n",
    "    x_test_final = np.hstack([x_test_poly, x_test_other.to_numpy()])\n",
    "\n",
    "# Train the model.\n",
    "\n",
    "    model.fit(x_train_final, y_train)\n",
    "\n",
    "# Predict target features for validation and test sets.\n",
    "    y_val_pred = model.predict(x_val_final)\n",
    "    y_test_pred = model.predict(x_test_final)\n",
    "\n",
    "# Return predictions.\n",
    "    return y_val_pred, y_test_pred"
   ],
   "id": "ca767f310e2f82e2",
   "outputs": [],
   "execution_count": 47
  },
  {
   "metadata": {
    "ExecuteTime": {
     "end_time": "2025-08-27T10:08:26.083728Z",
     "start_time": "2025-08-27T10:08:26.081612Z"
    }
   },
   "cell_type": "code",
   "source": [
    "def execute_random_forest_regression():\n",
    "    # Initialize the Random Forest Regressor model.\n",
    "    model = RandomForestRegressor(\n",
    "        n_estimators=50,\n",
    "        max_depth=20,\n",
    "        min_samples_leaf=20,\n",
    "        random_state=42,\n",
    "        n_jobs=-1\n",
    "    )\n",
    "\n",
    "    # Train the model on the training data.\n",
    "    model.fit(X_train, y_train)\n",
    "\n",
    "    # Make predictions on all data splits.\n",
    "    y_train_pred = model.predict(X_train)\n",
    "    y_val_pred = model.predict(X_val)\n",
    "    y_test_pred = model.predict(X_test)\n",
    "\n",
    "    return y_train_pred, y_val_pred, y_test_pred"
   ],
   "id": "6dfe239be3d560fd",
   "outputs": [],
   "execution_count": 48
  },
  {
   "metadata": {
    "ExecuteTime": {
     "end_time": "2025-08-27T10:09:32.266550Z",
     "start_time": "2025-08-27T10:08:26.098475Z"
    }
   },
   "cell_type": "code",
   "source": [
    "# Run the chosen model\n",
    "# Available models are:\n",
    "# 1. Linear Regression\n",
    "# 2. Ridge Regression\n",
    "# 3. Polynomial Regression (Linear Regression using Polynomial Features)\n",
    "y_train_pred, y_val_pred, y_test_pred = execute_random_forest_regression()\n",
    "\n",
    "# Clip predictions to the valid range [0, 10]\n",
    "y_train_pred = np.clip(y_train_pred, 0, 10)\n",
    "y_val_pred = np.clip(y_val_pred, 0, 10)\n",
    "y_test_pred = np.clip(y_test_pred, 0, 10)\n",
    "\n",
    "\n",
    "# Now we can look at how well the chosen model performs.\n",
    "\n",
    "# R² score\n",
    "r2_train = r2_score(y_train, y_train_pred)\n",
    "r2_val = r2_score(y_val, y_val_pred)\n",
    "r2_test = r2_score(y_test, y_test_pred)\n",
    "\n",
    "# Mean Squared Error\n",
    "mse_train = mean_squared_error(y_train, y_train_pred)\n",
    "mse_val = mean_squared_error(y_val, y_val_pred)\n",
    "mse_test = mean_squared_error(y_test, y_test_pred)\n",
    "\n",
    "print(\"📊 Training R2:\", r2_train)\n",
    "print(\"----------------------\")\n",
    "print(\"📊 Validation R2:\", r2_val)\n",
    "print(\"----------------------\")\n",
    "print(\"📊 Test R2:\", r2_test)\n",
    "print(\"----------------------\")\n",
    "print(\"📉 Training MSE:\", mse_train)\n",
    "print(\"----------------------\")\n",
    "print(\"📉 Validation MSE:\", mse_val)\n",
    "print(\"----------------------\")\n",
    "print(\"📉 Test MSE:\", mse_test)\n",
    "print(\"----------------------\")\n"
   ],
   "id": "4dd36c906333cb5a",
   "outputs": [
    {
     "name": "stdout",
     "output_type": "stream",
     "text": [
      "📊 Training R2: 0.9044756707270569\n",
      "----------------------\n",
      "📊 Validation R2: 0.8974669094972358\n",
      "----------------------\n",
      "📊 Test R2: 0.8976076736686802\n",
      "----------------------\n",
      "📉 Training MSE: 0.8282196415425185\n",
      "----------------------\n",
      "📉 Validation MSE: 0.8866102852252518\n",
      "----------------------\n",
      "📉 Test MSE: 0.887204890052946\n",
      "----------------------\n"
     ]
    }
   ],
   "execution_count": 49
  },
  {
   "metadata": {
    "ExecuteTime": {
     "end_time": "2025-08-27T10:09:32.351613Z",
     "start_time": "2025-08-27T10:09:32.307205Z"
    }
   },
   "cell_type": "code",
   "source": [
    "\n",
    "\n",
    "# Create a DataFrame with predictions, actuals, and titles.\n",
    "results = pd.DataFrame({\n",
    "\n",
    "    # take the correct movie title\n",
    "    'title': df.loc[X_test.index, 'title'],\n",
    "\n",
    "    'predicted_rating': y_test_pred,\n",
    "\n",
    "    'actual_rating': y_test\n",
    "})\n",
    "\n",
    "# Round values for easier reading.\n",
    "results['predicted_rating'] = results['predicted_rating'].round(2)\n",
    "results['actual_rating'] = results['actual_rating'].round(2)\n",
    "\n",
    "res_non_zero = results[results['actual_rating'] > 0]\n",
    "\n",
    "# Show a random sample of 20 movies.\n",
    "sample_results = res_non_zero.sample(20, random_state=42)\n",
    "\n",
    "display(sample_results)"
   ],
   "id": "12975a797b3afdff",
   "outputs": [
    {
     "data": {
      "text/plain": [
       "                                                    title  predicted_rating  \\\n",
       "149966                                     Fatcap Express              5.15   \n",
       "72340                                             Obra 67              5.60   \n",
       "196962                               My Childhood in Hell              6.08   \n",
       "79422           We'll Kick Up a Fuss Tomorrow, Darling...              5.77   \n",
       "320506                                     The Other Also              5.77   \n",
       "170349                                             Olesya              5.08   \n",
       "301805                                            Seconds              9.10   \n",
       "287907  KODA KUMI 10th Anniversary ～FANTASIA～in TOKYO ...              5.82   \n",
       "4055                              Sleeping with the Enemy              6.52   \n",
       "296904                                      Outward Bound              6.40   \n",
       "135235                                   Wolf Devil Woman              5.03   \n",
       "64775                                         Evet, I Do!              5.48   \n",
       "242604                                        Smykketyven              5.08   \n",
       "216677                                    The Desert Song              5.21   \n",
       "227575                                           Odd Jobs              7.38   \n",
       "286427                                        Bellator 55              5.88   \n",
       "276247                             Tengu: God Of Mischief              6.06   \n",
       "98865                                         Before I Go              5.82   \n",
       "278604                                      Love Training              6.03   \n",
       "119974                   Ali's Comeback: The Untold Story              6.71   \n",
       "\n",
       "        actual_rating  \n",
       "149966           7.00  \n",
       "72340            5.60  \n",
       "196962           7.00  \n",
       "79422            8.11  \n",
       "320506           5.00  \n",
       "170349           7.00  \n",
       "301805          10.00  \n",
       "287907          10.00  \n",
       "4055             6.48  \n",
       "296904          10.00  \n",
       "135235           7.00  \n",
       "64775            6.80  \n",
       "242604           2.00  \n",
       "216677           7.00  \n",
       "227575          10.00  \n",
       "286427           6.50  \n",
       "276247           8.00  \n",
       "98865            5.10  \n",
       "278604           7.00  \n",
       "119974           7.20  "
      ],
      "text/html": [
       "<div>\n",
       "<style scoped>\n",
       "    .dataframe tbody tr th:only-of-type {\n",
       "        vertical-align: middle;\n",
       "    }\n",
       "\n",
       "    .dataframe tbody tr th {\n",
       "        vertical-align: top;\n",
       "    }\n",
       "\n",
       "    .dataframe thead th {\n",
       "        text-align: right;\n",
       "    }\n",
       "</style>\n",
       "<table border=\"1\" class=\"dataframe\">\n",
       "  <thead>\n",
       "    <tr style=\"text-align: right;\">\n",
       "      <th></th>\n",
       "      <th>title</th>\n",
       "      <th>predicted_rating</th>\n",
       "      <th>actual_rating</th>\n",
       "    </tr>\n",
       "  </thead>\n",
       "  <tbody>\n",
       "    <tr>\n",
       "      <th>149966</th>\n",
       "      <td>Fatcap Express</td>\n",
       "      <td>5.15</td>\n",
       "      <td>7.00</td>\n",
       "    </tr>\n",
       "    <tr>\n",
       "      <th>72340</th>\n",
       "      <td>Obra 67</td>\n",
       "      <td>5.60</td>\n",
       "      <td>5.60</td>\n",
       "    </tr>\n",
       "    <tr>\n",
       "      <th>196962</th>\n",
       "      <td>My Childhood in Hell</td>\n",
       "      <td>6.08</td>\n",
       "      <td>7.00</td>\n",
       "    </tr>\n",
       "    <tr>\n",
       "      <th>79422</th>\n",
       "      <td>We'll Kick Up a Fuss Tomorrow, Darling...</td>\n",
       "      <td>5.77</td>\n",
       "      <td>8.11</td>\n",
       "    </tr>\n",
       "    <tr>\n",
       "      <th>320506</th>\n",
       "      <td>The Other Also</td>\n",
       "      <td>5.77</td>\n",
       "      <td>5.00</td>\n",
       "    </tr>\n",
       "    <tr>\n",
       "      <th>170349</th>\n",
       "      <td>Olesya</td>\n",
       "      <td>5.08</td>\n",
       "      <td>7.00</td>\n",
       "    </tr>\n",
       "    <tr>\n",
       "      <th>301805</th>\n",
       "      <td>Seconds</td>\n",
       "      <td>9.10</td>\n",
       "      <td>10.00</td>\n",
       "    </tr>\n",
       "    <tr>\n",
       "      <th>287907</th>\n",
       "      <td>KODA KUMI 10th Anniversary ～FANTASIA～in TOKYO ...</td>\n",
       "      <td>5.82</td>\n",
       "      <td>10.00</td>\n",
       "    </tr>\n",
       "    <tr>\n",
       "      <th>4055</th>\n",
       "      <td>Sleeping with the Enemy</td>\n",
       "      <td>6.52</td>\n",
       "      <td>6.48</td>\n",
       "    </tr>\n",
       "    <tr>\n",
       "      <th>296904</th>\n",
       "      <td>Outward Bound</td>\n",
       "      <td>6.40</td>\n",
       "      <td>10.00</td>\n",
       "    </tr>\n",
       "    <tr>\n",
       "      <th>135235</th>\n",
       "      <td>Wolf Devil Woman</td>\n",
       "      <td>5.03</td>\n",
       "      <td>7.00</td>\n",
       "    </tr>\n",
       "    <tr>\n",
       "      <th>64775</th>\n",
       "      <td>Evet, I Do!</td>\n",
       "      <td>5.48</td>\n",
       "      <td>6.80</td>\n",
       "    </tr>\n",
       "    <tr>\n",
       "      <th>242604</th>\n",
       "      <td>Smykketyven</td>\n",
       "      <td>5.08</td>\n",
       "      <td>2.00</td>\n",
       "    </tr>\n",
       "    <tr>\n",
       "      <th>216677</th>\n",
       "      <td>The Desert Song</td>\n",
       "      <td>5.21</td>\n",
       "      <td>7.00</td>\n",
       "    </tr>\n",
       "    <tr>\n",
       "      <th>227575</th>\n",
       "      <td>Odd Jobs</td>\n",
       "      <td>7.38</td>\n",
       "      <td>10.00</td>\n",
       "    </tr>\n",
       "    <tr>\n",
       "      <th>286427</th>\n",
       "      <td>Bellator 55</td>\n",
       "      <td>5.88</td>\n",
       "      <td>6.50</td>\n",
       "    </tr>\n",
       "    <tr>\n",
       "      <th>276247</th>\n",
       "      <td>Tengu: God Of Mischief</td>\n",
       "      <td>6.06</td>\n",
       "      <td>8.00</td>\n",
       "    </tr>\n",
       "    <tr>\n",
       "      <th>98865</th>\n",
       "      <td>Before I Go</td>\n",
       "      <td>5.82</td>\n",
       "      <td>5.10</td>\n",
       "    </tr>\n",
       "    <tr>\n",
       "      <th>278604</th>\n",
       "      <td>Love Training</td>\n",
       "      <td>6.03</td>\n",
       "      <td>7.00</td>\n",
       "    </tr>\n",
       "    <tr>\n",
       "      <th>119974</th>\n",
       "      <td>Ali's Comeback: The Untold Story</td>\n",
       "      <td>6.71</td>\n",
       "      <td>7.20</td>\n",
       "    </tr>\n",
       "  </tbody>\n",
       "</table>\n",
       "</div>"
      ]
     },
     "metadata": {},
     "output_type": "display_data"
    }
   ],
   "execution_count": 50
  },
  {
   "metadata": {
    "ExecuteTime": {
     "end_time": "2025-08-27T10:09:33.112757Z",
     "start_time": "2025-08-27T10:09:32.419338Z"
    }
   },
   "cell_type": "code",
   "source": [
    "import matplotlib.pyplot as plt\n",
    "\n",
    "plt.figure(figsize=(8, 6))\n",
    "plt.scatter(y_test, y_test_pred, alpha=0.3)\n",
    "plt.xlabel(\"Actual Ratings\")\n",
    "plt.ylabel(\"Predicted Ratings\")\n",
    "plt.title(\"Predicted vs Actual Ratings\")\n",
    "plt.plot([0, 10], [0, 10], 'r', lw=3)  # Perfect prediction line\n",
    "plt.show()"
   ],
   "id": "10ccbd77a563a377",
   "outputs": [
    {
     "data": {
      "text/plain": [
       "<Figure size 800x600 with 1 Axes>"
      ],
      "image/png": "[encoded data removed]"
     },
     "metadata": {},
     "output_type": "display_data"
    }
   ],
   "execution_count": 51
  },
  {
   "metadata": {
    "ExecuteTime": {
     "end_time": "2025-08-27T10:09:33.120327Z",
     "start_time": "2025-08-27T10:09:33.118793Z"
    }
   },
   "cell_type": "code",
   "source": "",
   "id": "abfc1b68eed7096e",
   "outputs": [],
   "execution_count": null
  },
  {
   "metadata": {
    "ExecuteTime": {
     "end_time": "2025-08-27T10:09:33.141779Z",
     "start_time": "2025-08-27T10:09:33.140430Z"
    }
   },
   "cell_type": "code",
   "source": "",
   "id": "2c51ed97c058c79c",
   "outputs": [],
   "execution_count": null
  }
 ],
 "metadata": {
  "kernelspec": {
   "display_name": "Python 3 (ipykernel)",
   "language": "python",
   "name": "python3"
  },
  "language_info": {
   "codemirror_mode": {
    "name": "ipython",
    "version": 3
   },
   "file_extension": ".py",
   "mimetype": "text/x-python",
   "name": "python",
   "nbconvert_exporter": "python",
   "pygments_lexer": "ipython3",
   "version": "3.13.3"
  }
 },
 "nbformat": 4,
 "nbformat_minor": 5
}
